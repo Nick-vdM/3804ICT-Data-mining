{
 "cells": [
  {
   "cell_type": "markdown",
   "metadata": {
    "collapsed": true
   },
   "source": [
    "# Preliminary Data Report"
   ]
  },
  {
   "cell_type": "markdown",
   "metadata": {},
   "source": [
    "## Data Exploration\n",
    "\n",
    "This dataset has two tables that will be analysed. The first is the movie table, which includes the attributes of movies\n",
    "from the IMDB website. The second is the ratings table, which includes the ratings given to various movies by users of\n",
    "the website MovieLens.\n",
    "\n",
    "Below is a sample of the movies table."
   ]
  },
  {
   "cell_type": "code",
   "execution_count": 1,
   "metadata": {},
   "outputs": [
    {
     "data": {
      "text/html": [
       "<div>\n",
       "<style scoped>\n",
       "    .dataframe tbody tr th:only-of-type {\n",
       "        vertical-align: middle;\n",
       "    }\n",
       "\n",
       "    .dataframe tbody tr th {\n",
       "        vertical-align: top;\n",
       "    }\n",
       "\n",
       "    .dataframe thead th {\n",
       "        text-align: right;\n",
       "    }\n",
       "</style>\n",
       "<table border=\"1\" class=\"dataframe\">\n",
       "  <thead>\n",
       "    <tr style=\"text-align: right;\">\n",
       "      <th></th>\n",
       "      <th>imdb_title_id</th>\n",
       "      <th>title</th>\n",
       "      <th>original_title</th>\n",
       "      <th>date_published</th>\n",
       "      <th>duration</th>\n",
       "      <th>country</th>\n",
       "      <th>language</th>\n",
       "      <th>director</th>\n",
       "      <th>writer</th>\n",
       "      <th>production_company</th>\n",
       "      <th>...</th>\n",
       "      <th>votes</th>\n",
       "      <th>budget</th>\n",
       "      <th>usa_gross_income</th>\n",
       "      <th>worlwide_gross_income</th>\n",
       "      <th>genre</th>\n",
       "      <th>actors</th>\n",
       "      <th>year</th>\n",
       "      <th>metascore</th>\n",
       "      <th>reviews_from_users</th>\n",
       "      <th>reviews_from_critics</th>\n",
       "    </tr>\n",
       "  </thead>\n",
       "  <tbody>\n",
       "    <tr>\n",
       "      <th>0</th>\n",
       "      <td>tt0000009</td>\n",
       "      <td>Miss Jerry</td>\n",
       "      <td>Miss Jerry</td>\n",
       "      <td>1894-10-09</td>\n",
       "      <td>45</td>\n",
       "      <td>USA</td>\n",
       "      <td>None</td>\n",
       "      <td>Alexander Black</td>\n",
       "      <td>Alexander Black</td>\n",
       "      <td>Alexander Black Photoplays</td>\n",
       "      <td>...</td>\n",
       "      <td>154</td>\n",
       "      <td>NaN</td>\n",
       "      <td>NaN</td>\n",
       "      <td>NaN</td>\n",
       "      <td>{Romance}</td>\n",
       "      <td>{William Courtenay, Blanche Bayliss, Chauncey ...</td>\n",
       "      <td>1894</td>\n",
       "      <td>-1</td>\n",
       "      <td>1</td>\n",
       "      <td>2</td>\n",
       "    </tr>\n",
       "    <tr>\n",
       "      <th>1</th>\n",
       "      <td>tt0000574</td>\n",
       "      <td>The Story of the Kelly Gang</td>\n",
       "      <td>The Story of the Kelly Gang</td>\n",
       "      <td>1906-12-26</td>\n",
       "      <td>70</td>\n",
       "      <td>Australia</td>\n",
       "      <td>None</td>\n",
       "      <td>Charles Tait</td>\n",
       "      <td>Charles Tait</td>\n",
       "      <td>J. and N. Tait</td>\n",
       "      <td>...</td>\n",
       "      <td>589</td>\n",
       "      <td>$ 2250</td>\n",
       "      <td>NaN</td>\n",
       "      <td>NaN</td>\n",
       "      <td>{Crime, Biography, Drama}</td>\n",
       "      <td>{Bella Cola, John Tait, Vera Linden, Ollie Wil...</td>\n",
       "      <td>1906</td>\n",
       "      <td>-1</td>\n",
       "      <td>7</td>\n",
       "      <td>7</td>\n",
       "    </tr>\n",
       "    <tr>\n",
       "      <th>2</th>\n",
       "      <td>tt0001892</td>\n",
       "      <td>Den sorte drøm</td>\n",
       "      <td>Den sorte drøm</td>\n",
       "      <td>1911-08-19</td>\n",
       "      <td>53</td>\n",
       "      <td>Germany, Denmark</td>\n",
       "      <td>NaN</td>\n",
       "      <td>Urban Gad</td>\n",
       "      <td>Urban Gad, Gebhard Schätzler-Perasini</td>\n",
       "      <td>Fotorama</td>\n",
       "      <td>...</td>\n",
       "      <td>188</td>\n",
       "      <td>NaN</td>\n",
       "      <td>NaN</td>\n",
       "      <td>NaN</td>\n",
       "      <td>{Drama}</td>\n",
       "      <td>{Emil Albes, Mary Hagen, Gunnar Helsengreen, V...</td>\n",
       "      <td>1911</td>\n",
       "      <td>-1</td>\n",
       "      <td>5</td>\n",
       "      <td>2</td>\n",
       "    </tr>\n",
       "    <tr>\n",
       "      <th>3</th>\n",
       "      <td>tt0002101</td>\n",
       "      <td>Cleopatra</td>\n",
       "      <td>Cleopatra</td>\n",
       "      <td>1912-11-13</td>\n",
       "      <td>100</td>\n",
       "      <td>USA</td>\n",
       "      <td>English</td>\n",
       "      <td>Charles L. Gaskill</td>\n",
       "      <td>Victorien Sardou</td>\n",
       "      <td>Helen Gardner Picture Players</td>\n",
       "      <td>...</td>\n",
       "      <td>446</td>\n",
       "      <td>$ 45000</td>\n",
       "      <td>NaN</td>\n",
       "      <td>NaN</td>\n",
       "      <td>{History, Drama}</td>\n",
       "      <td>{Harry Knowles, Mr. Paul, Mr. Corker, Pearl Si...</td>\n",
       "      <td>1912</td>\n",
       "      <td>-1</td>\n",
       "      <td>25</td>\n",
       "      <td>3</td>\n",
       "    </tr>\n",
       "    <tr>\n",
       "      <th>4</th>\n",
       "      <td>tt0002130</td>\n",
       "      <td>L'Inferno</td>\n",
       "      <td>L'Inferno</td>\n",
       "      <td>1911-03-06</td>\n",
       "      <td>68</td>\n",
       "      <td>Italy</td>\n",
       "      <td>Italian</td>\n",
       "      <td>Francesco Bertolini, Adolfo Padovan</td>\n",
       "      <td>Dante Alighieri</td>\n",
       "      <td>Milano Film</td>\n",
       "      <td>...</td>\n",
       "      <td>2237</td>\n",
       "      <td>NaN</td>\n",
       "      <td>NaN</td>\n",
       "      <td>NaN</td>\n",
       "      <td>{Fantasy, Adventure, Drama}</td>\n",
       "      <td>{Augusto Milla, Salvatore Papa, Pier Delle Vig...</td>\n",
       "      <td>1911</td>\n",
       "      <td>-1</td>\n",
       "      <td>31</td>\n",
       "      <td>14</td>\n",
       "    </tr>\n",
       "    <tr>\n",
       "      <th>5</th>\n",
       "      <td>tt0002199</td>\n",
       "      <td>From the Manger to the Cross; or, Jesus of Naz...</td>\n",
       "      <td>From the Manger to the Cross; or, Jesus of Naz...</td>\n",
       "      <td>1913</td>\n",
       "      <td>60</td>\n",
       "      <td>USA</td>\n",
       "      <td>English</td>\n",
       "      <td>Sidney Olcott</td>\n",
       "      <td>Gene Gauntier</td>\n",
       "      <td>Kalem Company</td>\n",
       "      <td>...</td>\n",
       "      <td>484</td>\n",
       "      <td>NaN</td>\n",
       "      <td>NaN</td>\n",
       "      <td>NaN</td>\n",
       "      <td>{Biography, Drama}</td>\n",
       "      <td>{J.P. McGowan, James D. Ainsley, R. Henderson ...</td>\n",
       "      <td>1912</td>\n",
       "      <td>-1</td>\n",
       "      <td>13</td>\n",
       "      <td>5</td>\n",
       "    </tr>\n",
       "    <tr>\n",
       "      <th>6</th>\n",
       "      <td>tt0002423</td>\n",
       "      <td>Madame DuBarry</td>\n",
       "      <td>Madame DuBarry</td>\n",
       "      <td>1919-11-26</td>\n",
       "      <td>85</td>\n",
       "      <td>Germany</td>\n",
       "      <td>German</td>\n",
       "      <td>Ernst Lubitsch</td>\n",
       "      <td>Norbert Falk, Hanns Kräly</td>\n",
       "      <td>Projektions-AG Union (PAGU)</td>\n",
       "      <td>...</td>\n",
       "      <td>753</td>\n",
       "      <td>NaN</td>\n",
       "      <td>NaN</td>\n",
       "      <td>NaN</td>\n",
       "      <td>{Biography, Romance, Drama}</td>\n",
       "      <td>{Else Berna, Gustav Czimeg, Bernhard Goetzke, ...</td>\n",
       "      <td>1919</td>\n",
       "      <td>-1</td>\n",
       "      <td>12</td>\n",
       "      <td>9</td>\n",
       "    </tr>\n",
       "    <tr>\n",
       "      <th>7</th>\n",
       "      <td>tt0002445</td>\n",
       "      <td>Quo Vadis?</td>\n",
       "      <td>Quo Vadis?</td>\n",
       "      <td>1913-03-01</td>\n",
       "      <td>120</td>\n",
       "      <td>Italy</td>\n",
       "      <td>Italian</td>\n",
       "      <td>Enrico Guazzoni</td>\n",
       "      <td>Henryk Sienkiewicz, Enrico Guazzoni</td>\n",
       "      <td>Società Italiana Cines</td>\n",
       "      <td>...</td>\n",
       "      <td>273</td>\n",
       "      <td>ITL 45000</td>\n",
       "      <td>NaN</td>\n",
       "      <td>NaN</td>\n",
       "      <td>{History, Drama}</td>\n",
       "      <td>{Giuseppe Gambardella, Amleto Novelli, Ida Car...</td>\n",
       "      <td>1913</td>\n",
       "      <td>-1</td>\n",
       "      <td>7</td>\n",
       "      <td>5</td>\n",
       "    </tr>\n",
       "    <tr>\n",
       "      <th>8</th>\n",
       "      <td>tt0002452</td>\n",
       "      <td>Independenta Romaniei</td>\n",
       "      <td>Independenta Romaniei</td>\n",
       "      <td>1912-09-01</td>\n",
       "      <td>120</td>\n",
       "      <td>Romania</td>\n",
       "      <td>NaN</td>\n",
       "      <td>Aristide Demetriade, Grigore Brezeanu</td>\n",
       "      <td>Aristide Demetriade, Petre Liciu</td>\n",
       "      <td>Societatea Filmului de Arta Leon Popescu</td>\n",
       "      <td>...</td>\n",
       "      <td>198</td>\n",
       "      <td>ROL 400000</td>\n",
       "      <td>NaN</td>\n",
       "      <td>NaN</td>\n",
       "      <td>{War, History}</td>\n",
       "      <td>{Aurel Athanasescu, Aristide Demetriade, Nicol...</td>\n",
       "      <td>1912</td>\n",
       "      <td>-1</td>\n",
       "      <td>4</td>\n",
       "      <td>1</td>\n",
       "    </tr>\n",
       "    <tr>\n",
       "      <th>9</th>\n",
       "      <td>tt0002461</td>\n",
       "      <td>Richard III</td>\n",
       "      <td>Richard III</td>\n",
       "      <td>1912-10-15</td>\n",
       "      <td>55</td>\n",
       "      <td>France, USA</td>\n",
       "      <td>English</td>\n",
       "      <td>André Calmettes, James Keane</td>\n",
       "      <td>James Keane, William Shakespeare</td>\n",
       "      <td>Le Film d'Art</td>\n",
       "      <td>...</td>\n",
       "      <td>225</td>\n",
       "      <td>$ 30000</td>\n",
       "      <td>NaN</td>\n",
       "      <td>NaN</td>\n",
       "      <td>{Drama}</td>\n",
       "      <td>{Frederick Warde, Howard Stuart, Carey Lee, Al...</td>\n",
       "      <td>1912</td>\n",
       "      <td>-1</td>\n",
       "      <td>8</td>\n",
       "      <td>1</td>\n",
       "    </tr>\n",
       "  </tbody>\n",
       "</table>\n",
       "<p>10 rows × 22 columns</p>\n",
       "</div>"
      ],
      "text/plain": [
       "  imdb_title_id                                              title  \\\n",
       "0     tt0000009                                         Miss Jerry   \n",
       "1     tt0000574                        The Story of the Kelly Gang   \n",
       "2     tt0001892                                     Den sorte drøm   \n",
       "3     tt0002101                                          Cleopatra   \n",
       "4     tt0002130                                          L'Inferno   \n",
       "5     tt0002199  From the Manger to the Cross; or, Jesus of Naz...   \n",
       "6     tt0002423                                     Madame DuBarry   \n",
       "7     tt0002445                                         Quo Vadis?   \n",
       "8     tt0002452                              Independenta Romaniei   \n",
       "9     tt0002461                                        Richard III   \n",
       "\n",
       "                                      original_title date_published  duration  \\\n",
       "0                                         Miss Jerry     1894-10-09        45   \n",
       "1                        The Story of the Kelly Gang     1906-12-26        70   \n",
       "2                                     Den sorte drøm     1911-08-19        53   \n",
       "3                                          Cleopatra     1912-11-13       100   \n",
       "4                                          L'Inferno     1911-03-06        68   \n",
       "5  From the Manger to the Cross; or, Jesus of Naz...           1913        60   \n",
       "6                                     Madame DuBarry     1919-11-26        85   \n",
       "7                                         Quo Vadis?     1913-03-01       120   \n",
       "8                              Independenta Romaniei     1912-09-01       120   \n",
       "9                                        Richard III     1912-10-15        55   \n",
       "\n",
       "            country language                               director  \\\n",
       "0               USA     None                        Alexander Black   \n",
       "1         Australia     None                           Charles Tait   \n",
       "2  Germany, Denmark      NaN                              Urban Gad   \n",
       "3               USA  English                     Charles L. Gaskill   \n",
       "4             Italy  Italian    Francesco Bertolini, Adolfo Padovan   \n",
       "5               USA  English                          Sidney Olcott   \n",
       "6           Germany   German                         Ernst Lubitsch   \n",
       "7             Italy  Italian                        Enrico Guazzoni   \n",
       "8           Romania      NaN  Aristide Demetriade, Grigore Brezeanu   \n",
       "9       France, USA  English           André Calmettes, James Keane   \n",
       "\n",
       "                                  writer  \\\n",
       "0                        Alexander Black   \n",
       "1                           Charles Tait   \n",
       "2  Urban Gad, Gebhard Schätzler-Perasini   \n",
       "3                       Victorien Sardou   \n",
       "4                        Dante Alighieri   \n",
       "5                          Gene Gauntier   \n",
       "6              Norbert Falk, Hanns Kräly   \n",
       "7    Henryk Sienkiewicz, Enrico Guazzoni   \n",
       "8       Aristide Demetriade, Petre Liciu   \n",
       "9       James Keane, William Shakespeare   \n",
       "\n",
       "                         production_company  ... votes      budget  \\\n",
       "0                Alexander Black Photoplays  ...   154         NaN   \n",
       "1                            J. and N. Tait  ...   589      $ 2250   \n",
       "2                                  Fotorama  ...   188         NaN   \n",
       "3             Helen Gardner Picture Players  ...   446     $ 45000   \n",
       "4                               Milano Film  ...  2237         NaN   \n",
       "5                             Kalem Company  ...   484         NaN   \n",
       "6               Projektions-AG Union (PAGU)  ...   753         NaN   \n",
       "7                    Società Italiana Cines  ...   273   ITL 45000   \n",
       "8  Societatea Filmului de Arta Leon Popescu  ...   198  ROL 400000   \n",
       "9                             Le Film d'Art  ...   225     $ 30000   \n",
       "\n",
       "   usa_gross_income worlwide_gross_income                        genre  \\\n",
       "0               NaN                   NaN                    {Romance}   \n",
       "1               NaN                   NaN    {Crime, Biography, Drama}   \n",
       "2               NaN                   NaN                      {Drama}   \n",
       "3               NaN                   NaN             {History, Drama}   \n",
       "4               NaN                   NaN  {Fantasy, Adventure, Drama}   \n",
       "5               NaN                   NaN           {Biography, Drama}   \n",
       "6               NaN                   NaN  {Biography, Romance, Drama}   \n",
       "7               NaN                   NaN             {History, Drama}   \n",
       "8               NaN                   NaN               {War, History}   \n",
       "9               NaN                   NaN                      {Drama}   \n",
       "\n",
       "                                              actors  year metascore  \\\n",
       "0  {William Courtenay, Blanche Bayliss, Chauncey ...  1894        -1   \n",
       "1  {Bella Cola, John Tait, Vera Linden, Ollie Wil...  1906        -1   \n",
       "2  {Emil Albes, Mary Hagen, Gunnar Helsengreen, V...  1911        -1   \n",
       "3  {Harry Knowles, Mr. Paul, Mr. Corker, Pearl Si...  1912        -1   \n",
       "4  {Augusto Milla, Salvatore Papa, Pier Delle Vig...  1911        -1   \n",
       "5  {J.P. McGowan, James D. Ainsley, R. Henderson ...  1912        -1   \n",
       "6  {Else Berna, Gustav Czimeg, Bernhard Goetzke, ...  1919        -1   \n",
       "7  {Giuseppe Gambardella, Amleto Novelli, Ida Car...  1913        -1   \n",
       "8  {Aurel Athanasescu, Aristide Demetriade, Nicol...  1912        -1   \n",
       "9  {Frederick Warde, Howard Stuart, Carey Lee, Al...  1912        -1   \n",
       "\n",
       "   reviews_from_users  reviews_from_critics  \n",
       "0                   1                     2  \n",
       "1                   7                     7  \n",
       "2                   5                     2  \n",
       "3                  25                     3  \n",
       "4                  31                    14  \n",
       "5                  13                     5  \n",
       "6                  12                     9  \n",
       "7                   7                     5  \n",
       "8                   4                     1  \n",
       "9                   8                     1  \n",
       "\n",
       "[10 rows x 22 columns]"
      ]
     },
     "execution_count": 1,
     "metadata": {},
     "output_type": "execute_result"
    }
   ],
   "source": [
    "import pickle\n",
    "import bz2\n",
    "import pandas as pd\n",
    "import numpy as np\n",
    "import matplotlib.pyplot as plt\n",
    "\n",
    "def read_in_pickle(filename):\n",
    "    bz2_file = bz2.BZ2File(filename, \"r\")\n",
    "    data = pickle.load(bz2_file)\n",
    "    return data\n",
    "\n",
    "movie_df = read_in_pickle(\"../pickles/organised_movies.pickle\")\n",
    "movie_df.head(10)"
   ]
  },
  {
   "cell_type": "markdown",
   "metadata": {
    "pycharm": {
     "name": "#%% md\n"
    }
   },
   "source": [
    "Below is a sample of the ratings database. The movies from the ratings database are linked to the IMDB database through\n",
    "the IMDB ID.\n"
   ]
  },
  {
   "cell_type": "code",
   "execution_count": 2,
   "metadata": {
    "pycharm": {
     "name": "#%%\n"
    }
   },
   "outputs": [
    {
     "data": {
      "text/html": [
       "<div>\n",
       "<style scoped>\n",
       "    .dataframe tbody tr th:only-of-type {\n",
       "        vertical-align: middle;\n",
       "    }\n",
       "\n",
       "    .dataframe tbody tr th {\n",
       "        vertical-align: top;\n",
       "    }\n",
       "\n",
       "    .dataframe thead th {\n",
       "        text-align: right;\n",
       "    }\n",
       "</style>\n",
       "<table border=\"1\" class=\"dataframe\">\n",
       "  <thead>\n",
       "    <tr style=\"text-align: right;\">\n",
       "      <th></th>\n",
       "      <th>userId</th>\n",
       "      <th>rating</th>\n",
       "      <th>imdbId</th>\n",
       "    </tr>\n",
       "  </thead>\n",
       "  <tbody>\n",
       "    <tr>\n",
       "      <th>0</th>\n",
       "      <td>1</td>\n",
       "      <td>4.0</td>\n",
       "      <td>tt0114709</td>\n",
       "    </tr>\n",
       "    <tr>\n",
       "      <th>1</th>\n",
       "      <td>1</td>\n",
       "      <td>4.0</td>\n",
       "      <td>tt0113228</td>\n",
       "    </tr>\n",
       "    <tr>\n",
       "      <th>2</th>\n",
       "      <td>1</td>\n",
       "      <td>4.0</td>\n",
       "      <td>tt0113277</td>\n",
       "    </tr>\n",
       "    <tr>\n",
       "      <th>3</th>\n",
       "      <td>1</td>\n",
       "      <td>5.0</td>\n",
       "      <td>tt0114369</td>\n",
       "    </tr>\n",
       "    <tr>\n",
       "      <th>4</th>\n",
       "      <td>1</td>\n",
       "      <td>5.0</td>\n",
       "      <td>tt0114814</td>\n",
       "    </tr>\n",
       "    <tr>\n",
       "      <th>5</th>\n",
       "      <td>1</td>\n",
       "      <td>3.0</td>\n",
       "      <td>tt0116367</td>\n",
       "    </tr>\n",
       "    <tr>\n",
       "      <th>6</th>\n",
       "      <td>1</td>\n",
       "      <td>5.0</td>\n",
       "      <td>tt0115734</td>\n",
       "    </tr>\n",
       "    <tr>\n",
       "      <th>7</th>\n",
       "      <td>1</td>\n",
       "      <td>4.0</td>\n",
       "      <td>tt0112573</td>\n",
       "    </tr>\n",
       "    <tr>\n",
       "      <th>8</th>\n",
       "      <td>1</td>\n",
       "      <td>5.0</td>\n",
       "      <td>tt0114287</td>\n",
       "    </tr>\n",
       "    <tr>\n",
       "      <th>9</th>\n",
       "      <td>1</td>\n",
       "      <td>5.0</td>\n",
       "      <td>tt0109370</td>\n",
       "    </tr>\n",
       "  </tbody>\n",
       "</table>\n",
       "</div>"
      ],
      "text/plain": [
       "   userId  rating     imdbId\n",
       "0       1     4.0  tt0114709\n",
       "1       1     4.0  tt0113228\n",
       "2       1     4.0  tt0113277\n",
       "3       1     5.0  tt0114369\n",
       "4       1     5.0  tt0114814\n",
       "5       1     3.0  tt0116367\n",
       "6       1     5.0  tt0115734\n",
       "7       1     4.0  tt0112573\n",
       "8       1     5.0  tt0114287\n",
       "9       1     5.0  tt0109370"
      ]
     },
     "execution_count": 2,
     "metadata": {},
     "output_type": "execute_result"
    }
   ],
   "source": [
    "rating_df = read_in_pickle(\"../pickles/organised_ratings.pickle\")\n",
    "rating_df.head(10)"
   ]
  },
  {
   "cell_type": "markdown",
   "metadata": {},
   "source": [
    "#### Attribute Types\n",
    "Below are the data types of attributes in both tables. Note: types listed as \"object\" are strings, and genre and actors\n",
    "are sets of strings."
   ]
  },
  {
   "cell_type": "code",
   "execution_count": 3,
   "metadata": {},
   "outputs": [
    {
     "name": "stdout",
     "output_type": "stream",
     "text": [
      "MOVIES\n",
      "imdb_title_id             object\n",
      "title                     object\n",
      "original_title            object\n",
      "date_published            object\n",
      "duration                   int32\n",
      "country                   object\n",
      "language                  object\n",
      "director                  object\n",
      "writer                    object\n",
      "production_company        object\n",
      "description               object\n",
      "avg_vote                 float64\n",
      "votes                      int32\n",
      "budget                    object\n",
      "usa_gross_income          object\n",
      "worlwide_gross_income     object\n",
      "genre                     object\n",
      "actors                    object\n",
      "year                       int64\n",
      "metascore                  int64\n",
      "reviews_from_users         int64\n",
      "reviews_from_critics       int64\n",
      "dtype: object\n",
      "         \n",
      "RATINGS\n",
      "userId      int64\n",
      "rating    float64\n",
      "imdbId     object\n",
      "dtype: object\n"
     ]
    }
   ],
   "source": [
    "pd.set_option('display.max_rows', None)\n",
    "pd.set_option('display.max_columns', None)\n",
    "\n",
    "print(\"MOVIES\")\n",
    "print(movie_df.dtypes)\n",
    "print(\"         \")\n",
    "print(\"RATINGS\")\n",
    "print(rating_df.dtypes)"
   ]
  },
  {
   "cell_type": "markdown",
   "metadata": {},
   "source": [
    "#### Data Dimensions\n",
    "\n",
    "Below are the dimensions of both tables."
   ]
  },
  {
   "cell_type": "code",
   "execution_count": 4,
   "metadata": {
    "scrolled": true
   },
   "outputs": [
    {
     "name": "stdout",
     "output_type": "stream",
     "text": [
      "MOVIES\n",
      "Total Number of Attributes:  22\n",
      "Total Number of Samples:  85855\n",
      "Total Number of Cells:  1888810\n",
      "RATINGS\n",
      "Total Number of Attributes:  3\n",
      "Total Number of Samples:  100836\n",
      "Total Number of Cells:  302508\n"
     ]
    }
   ],
   "source": [
    "print(\"MOVIES\")\n",
    "print(\"Total Number of Attributes: \", movie_df.shape[1])\n",
    "print(\"Total Number of Samples: \", movie_df.shape[0])\n",
    "print(\"Total Number of Cells: \", movie_df.size)\n",
    "\n",
    "print(\"RATINGS\")\n",
    "print(\"Total Number of Attributes: \", rating_df.shape[1])\n",
    "print(\"Total Number of Samples: \", rating_df.shape[0])\n",
    "print(\"Total Number of Cells: \", rating_df.size)"
   ]
  },
  {
   "cell_type": "markdown",
   "metadata": {},
   "source": [
    "#### Data Summaries\n",
    "\n",
    "Below are the basic summaries of both datasets' categories. The numerical categories have five number summaries,\n",
    "while the categorical categories have their unique values listed."
   ]
  },
  {
   "cell_type": "code",
   "execution_count": 5,
   "metadata": {},
   "outputs": [
    {
     "name": "stdout",
     "output_type": "stream",
     "text": [
      "MOVIES\n",
      "           duration      avg_vote         votes          year     metascore  \\\n",
      "count  85855.000000  85855.000000  8.585500e+04  85855.000000  13305.000000   \n",
      "mean     100.351418      5.898656  9.493490e+03   1993.500891     55.896881   \n",
      "std       22.553848      1.234987  5.357436e+04     24.216420     17.784874   \n",
      "min       41.000000      1.000000  9.900000e+01   1894.000000      1.000000   \n",
      "25%       88.000000      5.200000  2.050000e+02   1979.000000     43.000000   \n",
      "50%       96.000000      6.100000  4.840000e+02   2003.000000     57.000000   \n",
      "75%      108.000000      6.800000  1.766500e+03   2013.000000     69.000000   \n",
      "max      808.000000      9.900000  2.278845e+06   2020.000000    100.000000   \n",
      "\n",
      "       reviews_from_users  reviews_from_critics  \n",
      "count        78258.000000          74058.000000  \n",
      "mean            46.040826             27.479989  \n",
      "std            178.511411             58.339158  \n",
      "min              1.000000              1.000000  \n",
      "25%              4.000000              3.000000  \n",
      "50%              9.000000              8.000000  \n",
      "75%             27.000000             23.000000  \n",
      "max          10472.000000            999.000000  \n",
      "RATINGS\n",
      "              userId         rating\n",
      "count  100836.000000  100836.000000\n",
      "mean      326.127564       3.501557\n",
      "std       182.618491       1.042529\n",
      "min         1.000000       0.500000\n",
      "25%       177.000000       3.000000\n",
      "50%       325.000000       3.500000\n",
      "75%       477.000000       4.000000\n",
      "max       610.000000       5.000000\n"
     ]
    }
   ],
   "source": [
    "print(\"MOVIES\")\n",
    "print(movie_df.mask(movie_df == -1).describe())\n",
    "\n",
    "print(\"RATINGS\")\n",
    "print(rating_df.mask(rating_df == -1).describe())"
   ]
  },
  {
   "cell_type": "code",
   "execution_count": 6,
   "metadata": {},
   "outputs": [
    {
     "name": "stdout",
     "output_type": "stream",
     "text": [
      "MOVIES\n",
      "imdb_title_id\n",
      "['tt0000009' 'tt0000574' 'tt0001892' ... 'tt9911774' 'tt9914286'\n",
      " 'tt9914942']\n",
      "title\n",
      "['Miss Jerry' 'The Story of the Kelly Gang' 'Den sorte drøm' ...\n",
      " 'Padmavyuhathile Abhimanyu' 'Sokagin Çocuklari'\n",
      " 'La vida sense la Sara Amat']\n",
      "original_title\n",
      "['Miss Jerry' 'The Story of the Kelly Gang' 'Den sorte drøm' ...\n",
      " 'Padmavyuhathile Abhimanyu' 'Sokagin Çocuklari'\n",
      " 'La vida sense la Sara Amat']\n",
      "date_published\n",
      "['1894-10-09' '1906-12-26' '1911-08-19' ... '2020-10-22' '2019-01-13'\n",
      " '2020-09-04']\n",
      "country\n",
      "['USA' 'Australia' 'Germany, Denmark' ...\n",
      " 'Iran, France, Germany, Switzerland, Luxembourg, Lebanon'\n",
      " 'Spain, Portugal, Argentina' 'India, Netherlands, Singapore']\n",
      "language\n",
      "['None' nan 'English' ... 'Persian, Urdu' 'English, Swiss German, German'\n",
      " 'English, Polish, Russian, German']\n",
      "director\n",
      "['Alexander Black' 'Charles Tait' 'Urban Gad' ... 'Ludovic Colbeau-Justin'\n",
      " 'Vineesh Aaradya' 'Laura Jou']\n",
      "writer\n",
      "['Alexander Black' 'Charles Tait' 'Urban Gad, Gebhard Schätzler-Perasini'\n",
      " ... 'Vineesh Aaradya, Vineesh Aaradya' 'Ahmet Faik Akinci, Kasim Uçkan'\n",
      " 'Coral Cruz, Pep Puig']\n",
      "production_company\n",
      "['Alexander Black Photoplays' 'J. and N. Tait' 'Fotorama' ...\n",
      " 'RMCC Productions' 'Gizem Ajans' 'La Xarxa de Comunicació Local']\n",
      "description\n",
      "['The adventures of a female reporter in the 1890s.'\n",
      " 'True story of notorious Australian outlaw Ned Kelly (1855-80).'\n",
      " \"Two men of high rank are both wooing the beautiful and famous equestrian acrobat Stella. While Stella ignores the jeweler Hirsch, she accepts Count von Waldberg's offer to follow her home, ...\"\n",
      " ...\n",
      " 'A psychiatric hospital patient pretends to be crazy. In charge of caring for this patient, a caregiver will begin to doubt the mental state of his \"protégé\".'\n",
      " 'A middle-aged veterinary surgeon believes his wife pampers him too much. In order to get away from her, he fakes the onset of dementia.'\n",
      " 'Pep, a 13-year-old boy, is in love with a girl from his grandparents village, Sara Amat. One summer night Sara disappears without a trace. After a few hours, Pep finds her hiding in his room.']\n",
      "budget\n",
      "[nan '$ 2250' '$ 45000' ... 'CAD 3850000' 'IRR 35000000000' 'MYR 20000000']\n",
      "usa_gross_income\n",
      "[nan '$ 3270000' '$ 8811' ... '$ 265279' '$ 66309' '$ 1294596']\n",
      "worlwide_gross_income\n",
      "[nan '$ 144968' '$ 8811' ... '$ 7299062' '$ 2833' '$ 59794']\n",
      "    \n",
      "RATINGS\n",
      "imdbId\n",
      "['tt0114709' 'tt0113228' 'tt0113277' ... 'tt0798722' 'tt1540011'\n",
      " 'tt3835080']\n"
     ]
    }
   ],
   "source": [
    "print(\"MOVIES\")\n",
    "for (columnName, columnData) in movie_df.iteritems():\n",
    "    if columnName in [\"actors\", \"genre\", \"userId\"] or movie_df[columnName].dtypes in [np.float64, np.int32, np.int64]:\n",
    "        continue\n",
    "    print(columnName)\n",
    "    print(pd.unique(movie_df[columnName]))\n",
    "print(\"    \")\n",
    "\n",
    "\n",
    "print(\"RATINGS\")\n",
    "for (columnName, columnData) in rating_df.iteritems():\n",
    "    if columnName in [\"actors\", \"genre\", \"userId\"] or rating_df[columnName].dtypes in [np.float64, np.int32, np.int64]:\n",
    "        continue\n",
    "    print(columnName)\n",
    "    print(pd.unique(rating_df[columnName]))"
   ]
  },
  {
   "cell_type": "markdown",
   "metadata": {},
   "source": [
    "## Data Pre-preparation"
   ]
  },
  {
   "cell_type": "markdown",
   "metadata": {},
   "source": [
    "## Data Visualisation\n",
    "\n",
    "Below are the visualisations of both datasets' numerical categories.\n",
    "\n",
    "### Movies"
   ]
  },
  {
   "cell_type": "code",
   "execution_count": 7,
   "metadata": {},
   "outputs": [
    {
     "name": "stdout",
     "output_type": "stream",
     "text": [
      "Scatter plot of the durations\n"
     ]
    },
    {
     "data": {
      "image/png": "[encoded data removed]",
      "text/plain": [
       "<Figure size 432x288 with 1 Axes>"
      ]
     },
     "metadata": {
      "needs_background": "light"
     },
     "output_type": "display_data"
    },
    {
     "name": "stdout",
     "output_type": "stream",
     "text": [
      "Histogram of duration divided into 10 bins\n"
     ]
    },
    {
     "data": {
      "image/png": "[encoded data removed]",
      "text/plain": [
       "<Figure size 432x288 with 1 Axes>"
      ]
     },
     "metadata": {
      "needs_background": "light"
     },
     "output_type": "display_data"
    },
    {
     "name": "stdout",
     "output_type": "stream",
     "text": [
      "Box plot of the durations\n"
     ]
    },
    {
     "data": {
      "image/png": "[encoded data removed]",
      "text/plain": [
       "<Figure size 432x288 with 1 Axes>"
      ]
     },
     "metadata": {
      "needs_background": "light"
     },
     "output_type": "display_data"
    }
   ],
   "source": [
    "d = movie_df.groupby('duration')['imdb_title_id'].nunique()\n",
    "f = []\n",
    "\n",
    "for value in d:\n",
    "    f.insert(-1, value)\n",
    "\n",
    "\n",
    "d = {'Run Time': movie_df['duration'].unique(), 'Frequency': f }\n",
    "df = pd.DataFrame(data=d)\n",
    "\n",
    "print(\"Scatter plot of the durations\")\n",
    "df.plot.scatter(stacked=True,x='Run Time',y='Frequency',color=\"r\");\n",
    "plt.show()\n",
    "\n",
    "df['quantile'] =  pd.qcut(df['Run Time'], q=10)\n",
    "\n",
    "df = df.drop(['Run Time'],axis=1)\n",
    "\n",
    "df = df.groupby('quantile').agg('sum')\n",
    "\n",
    "print(\"Histogram of duration divided into 10 bins\")\n",
    "df.plot.bar(stacked=True,color=\"g\");\n",
    "plt.show()\n",
    "\n",
    "df = movie_df\n",
    "df = df.drop(df.columns.difference(['duration']), 1, inplace=False)\n",
    "\n",
    "print(\"Box plot of the durations\")\n",
    "df.plot.box(stacked=True);\n",
    "plt.show()\n",
    "\n"
   ]
  },
  {
   "cell_type": "code",
   "execution_count": 8,
   "metadata": {},
   "outputs": [
    {
     "name": "stdout",
     "output_type": "stream",
     "text": [
      "Scatter plot of the average votes\n"
     ]
    },
    {
     "data": {
      "image/png": "[encoded data removed]",
      "text/plain": [
       "<Figure size 432x288 with 1 Axes>"
      ]
     },
     "metadata": {
      "needs_background": "light"
     },
     "output_type": "display_data"
    },
    {
     "name": "stdout",
     "output_type": "stream",
     "text": [
      "Histogram of average scores divided into 10 bins\n"
     ]
    },
    {
     "data": {
      "image/png": "[encoded data removed]",
      "text/plain": [
       "<Figure size 432x288 with 1 Axes>"
      ]
     },
     "metadata": {
      "needs_background": "light"
     },
     "output_type": "display_data"
    },
    {
     "name": "stdout",
     "output_type": "stream",
     "text": [
      "Box plot of the average votes\n"
     ]
    },
    {
     "data": {
      "image/png": "[encoded data removed]",
      "text/plain": [
       "<Figure size 432x288 with 1 Axes>"
      ]
     },
     "metadata": {
      "needs_background": "light"
     },
     "output_type": "display_data"
    }
   ],
   "source": [
    "#########################################################################\n",
    "d = movie_df.groupby('avg_vote')['imdb_title_id'].nunique()\n",
    "f = []\n",
    "\n",
    "for value in d:\n",
    "    f.insert(-1, value)\n",
    "\n",
    "\n",
    "d = {'Average Score': movie_df['avg_vote'].unique(), 'Frequency': f }\n",
    "df = pd.DataFrame(data=d)\n",
    "\n",
    "print(\"Scatter plot of the average votes\")\n",
    "df.plot.scatter(stacked=True,x='Average Score',y='Frequency',color=\"c\");\n",
    "plt.show()\n",
    "\n",
    "df['quantile'] =  pd.qcut(df['Average Score'], q=10)\n",
    "\n",
    "df = df.drop(['Average Score'],axis=1)\n",
    "\n",
    "df = df.groupby('quantile').agg('sum')\n",
    "\n",
    "print(\"Histogram of average scores divided into 10 bins\")\n",
    "df.plot.bar(stacked=True,color=\"k\");\n",
    "plt.show()\n",
    "\n",
    "\n",
    "df = movie_df\n",
    "df = df.drop(df.columns.difference(['avg_vote']), 1, inplace=False)\n",
    "\n",
    "print(\"Box plot of the average votes\")\n",
    "df.plot.box(stacked=True);\n",
    "plt.show()"
   ]
  },
  {
   "cell_type": "code",
   "execution_count": 15,
   "metadata": {},
   "outputs": [
    {
     "name": "stdout",
     "output_type": "stream",
     "text": [
      "Scatter plot of votes\n"
     ]
    },
    {
     "data": {
      "image/png": "[encoded data removed]",
      "text/plain": [
       "<Figure size 432x288 with 1 Axes>"
      ]
     },
     "metadata": {
      "needs_background": "light"
     },
     "output_type": "display_data"
    },
    {
     "name": "stdout",
     "output_type": "stream",
     "text": [
      "Histogram of votes divided into 10 bins\n"
     ]
    },
    {
     "data": {
      "image/png": "[encoded data removed]",
      "text/plain": [
       "<Figure size 432x288 with 1 Axes>"
      ]
     },
     "metadata": {
      "needs_background": "light"
     },
     "output_type": "display_data"
    },
    {
     "name": "stdout",
     "output_type": "stream",
     "text": [
      "Box plot of the votes\n"
     ]
    },
    {
     "data": {
      "image/png": "[encoded data removed]",
      "text/plain": [
       "<Figure size 432x288 with 1 Axes>"
      ]
     },
     "metadata": {
      "needs_background": "light"
     },
     "output_type": "display_data"
    }
   ],
   "source": [
    "#########################################################################\n",
    "d = movie_df.groupby('votes')['imdb_title_id'].nunique()\n",
    "f = []\n",
    "\n",
    "for value in d:\n",
    "    f.insert(-1, value)\n",
    "\n",
    "\n",
    "d = {'Votes': movie_df['votes'].unique(), 'Frequency': f }\n",
    "df = pd.DataFrame(data=d)\n",
    "\n",
    "print(\"Scatter plot of votes\")\n",
    "df.plot.scatter(stacked=True,x='Votes',y='Frequency', color='r');\n",
    "plt.show()\n",
    "\n",
    "df['quantile'] =  pd.qcut(df['Votes'], q=10)\n",
    "\n",
    "df = df.drop(['Votes'],axis=1)\n",
    "\n",
    "df = df.groupby('quantile').agg('sum')\n",
    "\n",
    "print(\"Histogram of votes divided into 10 bins\")\n",
    "df.plot.bar(stacked=True, color='b');\n",
    "plt.show()\n",
    "\n",
    "df = movie_df\n",
    "df = df.drop(df.columns.difference(['votes']), 1, inplace=False)\n",
    "\n",
    "print(\"Box plot of the votes\")\n",
    "df.plot.box(stacked=True);\n",
    "plt.show()\n"
   ]
  },
  {
   "cell_type": "code",
   "execution_count": 17,
   "metadata": {},
   "outputs": [
    {
     "name": "stdout",
     "output_type": "stream",
     "text": [
      "Scatter plot of years\n"
     ]
    },
    {
     "data": {
      "image/png": "[encoded data removed]",
      "text/plain": [
       "<Figure size 432x288 with 1 Axes>"
      ]
     },
     "metadata": {
      "needs_background": "light"
     },
     "output_type": "display_data"
    },
    {
     "name": "stdout",
     "output_type": "stream",
     "text": [
      "Box plot of years\n"
     ]
    },
    {
     "data": {
      "image/png": "[encoded data removed]",
      "text/plain": [
       "<Figure size 432x288 with 1 Axes>"
      ]
     },
     "metadata": {
      "needs_background": "light"
     },
     "output_type": "display_data"
    }
   ],
   "source": [
    "#########################################################################\n",
    "d = movie_df.groupby('year')['imdb_title_id'].nunique()\n",
    "f = []\n",
    "\n",
    "for value in d:\n",
    "    f.insert(-1, value)\n",
    "\n",
    "\n",
    "d = {'Year': movie_df['year'].unique(), 'Frequency': f }\n",
    "df = pd.DataFrame(data=d)\n",
    "\n",
    "print(\"Scatter plot of years\")\n",
    "df.plot.scatter(stacked=True,x='Year',y='Frequency', color = 'k');\n",
    "plt.show()\n",
    "\n",
    "\n",
    "df = movie_df\n",
    "df = df.drop(df.columns.difference(['year']), 1, inplace=False)\n",
    "\n",
    "print(\"Box plot of years\")\n",
    "df.plot.box(stacked=True);\n",
    "plt.show()"
   ]
  },
  {
   "cell_type": "code",
   "execution_count": 22,
   "metadata": {},
   "outputs": [
    {
     "name": "stdout",
     "output_type": "stream",
     "text": [
      "Scatter plot of review from users\n"
     ]
    },
    {
     "data": {
      "image/png": "[encoded data removed]",
      "text/plain": [
       "<Figure size 432x288 with 1 Axes>"
      ]
     },
     "metadata": {
      "needs_background": "light"
     },
     "output_type": "display_data"
    },
    {
     "name": "stdout",
     "output_type": "stream",
     "text": [
      "Histogram of review from users divided into 10 bins\n"
     ]
    },
    {
     "data": {
      "image/png": "[encoded data removed]",
      "text/plain": [
       "<Figure size 432x288 with 1 Axes>"
      ]
     },
     "metadata": {
      "needs_background": "light"
     },
     "output_type": "display_data"
    },
    {
     "name": "stdout",
     "output_type": "stream",
     "text": [
      "Box plot of the review from users\n"
     ]
    },
    {
     "data": {
      "image/png": "[encoded data removed]",
      "text/plain": [
       "<Figure size 432x288 with 1 Axes>"
      ]
     },
     "metadata": {
      "needs_background": "light"
     },
     "output_type": "display_data"
    }
   ],
   "source": [
    "#########################################################################\n",
    "d = movie_df.groupby('reviews_from_users')['imdb_title_id'].nunique()\n",
    "f = []\n",
    "\n",
    "for value in d:\n",
    "    f.insert(-1, value)\n",
    "\n",
    "\n",
    "d = {'Reviews from Users': movie_df['reviews_from_users'].unique(), 'Frequency': f }\n",
    "df = pd.DataFrame(data=d)\n",
    "\n",
    "print(\"Scatter plot of review from users\")\n",
    "df.plot.scatter(stacked=True,x='Reviews from Users',y='Frequency');\n",
    "plt.show()\n",
    "\n",
    "df['quantile'] =  pd.qcut(df['Reviews from Users'], q=10)\n",
    "\n",
    "df = df.drop(['Reviews from Users'],axis=1)\n",
    "\n",
    "df = df.groupby('quantile').agg('sum')\n",
    "\n",
    "print(\"Histogram of review from users divided into 10 bins\")\n",
    "df.plot.bar(stacked=True, color='c');\n",
    "plt.show()\n",
    "\n",
    "df = movie_df\n",
    "df = df.drop(df.columns.difference(['reviews_from_users']), 1, inplace=False)\n",
    "\n",
    "print(\"Box plot of the review from users\")\n",
    "df.plot.box(stacked=True);\n",
    "plt.show()\n"
   ]
  },
  {
   "cell_type": "code",
   "execution_count": 23,
   "metadata": {},
   "outputs": [
    {
     "name": "stdout",
     "output_type": "stream",
     "text": [
      "Scatter plot of review from critics\n"
     ]
    },
    {
     "data": {
      "image/png": "[encoded data removed]",
      "text/plain": [
       "<Figure size 432x288 with 1 Axes>"
      ]
     },
     "metadata": {
      "needs_background": "light"
     },
     "output_type": "display_data"
    },
    {
     "name": "stdout",
     "output_type": "stream",
     "text": [
      "Histogram of review from critics divided into 10 bins\n"
     ]
    },
    {
     "data": {
      "image/png": "[encoded data removed]",
      "text/plain": [
       "<Figure size 432x288 with 1 Axes>"
      ]
     },
     "metadata": {
      "needs_background": "light"
     },
     "output_type": "display_data"
    },
    {
     "name": "stdout",
     "output_type": "stream",
     "text": [
      "Box plot of the reviews from critics\n"
     ]
    },
    {
     "data": {
      "image/png": "[encoded data removed]",
      "text/plain": [
       "<Figure size 432x288 with 1 Axes>"
      ]
     },
     "metadata": {
      "needs_background": "light"
     },
     "output_type": "display_data"
    }
   ],
   "source": [
    "#########################################################################\n",
    "d = movie_df.groupby('reviews_from_critics')['imdb_title_id'].nunique()\n",
    "f = []\n",
    "\n",
    "for value in d:\n",
    "    f.insert(-1, value)\n",
    "\n",
    "\n",
    "d = {'Reviews from Critics': movie_df['reviews_from_critics'].unique(), 'Frequency': f }\n",
    "df = pd.DataFrame(data=d)\n",
    "\n",
    "print(\"Scatter plot of review from critics\")\n",
    "df.plot.scatter(stacked=True,x='Reviews from Critics',y='Frequency',color='brown');\n",
    "plt.show()\n",
    "\n",
    "df['quantile'] =  pd.qcut(df['Reviews from Critics'], q=10)\n",
    "\n",
    "df = df.drop(['Reviews from Critics'],axis=1)\n",
    "\n",
    "df = df.groupby('quantile').agg('sum')\n",
    "\n",
    "print(\"Histogram of review from critics divided into 10 bins\")\n",
    "df.plot.bar(stacked=True,color='r');\n",
    "plt.show()\n",
    "\n",
    "\n",
    "df = movie_df\n",
    "df = df.drop(df.columns.difference(['reviews_from_critics']), 1, inplace=False)\n",
    "\n",
    "print(\"Box plot of the reviews from critics\")\n",
    "df.plot.box(stacked=True);\n",
    "plt.show()"
   ]
  },
  {
   "cell_type": "markdown",
   "metadata": {
    "pycharm": {
     "name": "#%% md\n"
    }
   },
   "source": [
    "### Ratings\n"
   ]
  },
  {
   "cell_type": "code",
   "execution_count": 13,
   "metadata": {},
   "outputs": [
    {
     "name": "stdout",
     "output_type": "stream",
     "text": [
      "Graph of the ratings\n"
     ]
    },
    {
     "data": {
      "image/png": "[encoded data removed]",
      "text/plain": [
       "<Figure size 432x288 with 1 Axes>"
      ]
     },
     "metadata": {
      "needs_background": "light"
     },
     "output_type": "display_data"
    },
    {
     "name": "stdout",
     "output_type": "stream",
     "text": [
      "Pie graph of ratings\n"
     ]
    },
    {
     "data": {
      "image/png": "[encoded data removed]",
      "text/plain": [
       "<Figure size 432x288 with 1 Axes>"
      ]
     },
     "metadata": {},
     "output_type": "display_data"
    },
    {
     "name": "stdout",
     "output_type": "stream",
     "text": [
      "Box plot of the ratings\n"
     ]
    },
    {
     "data": {
      "image/png": "[encoded data removed]",
      "text/plain": [
       "<Figure size 432x288 with 1 Axes>"
      ]
     },
     "metadata": {
      "needs_background": "light"
     },
     "output_type": "display_data"
    }
   ],
   "source": [
    "df = rating_df\n",
    "df = df.drop(['imdbId'], axis=1)\n",
    "\n",
    "df = df.groupby('rating')['userId'].nunique()\n",
    "\n",
    "print(\"Graph of the ratings\")\n",
    "df.plot.bar(stacked=True);\n",
    "plt.show()\n",
    "\n",
    "print(\"Pie graph of ratings\")\n",
    "df.plot.pie(stacked=True);\n",
    "plt.show()\n",
    "\n",
    "df = rating_df\n",
    "df = df.drop(['userId', 'imdbId'], axis=1)\n",
    "\n",
    "print(\"Box plot of the ratings\")\n",
    "df.plot.box(stacked=True);\n",
    "plt.show()"
   ]
  }
 ],
 "metadata": {
  "kernelspec": {
   "display_name": "Python 3",
   "language": "python",
   "name": "python3"
  },
  "language_info": {
   "codemirror_mode": {
    "name": "ipython",
    "version": 3
   },
   "file_extension": ".py",
   "mimetype": "text/x-python",
   "name": "python",
   "nbconvert_exporter": "python",
   "pygments_lexer": "ipython3",
   "version": "3.7.4"
  }
 },
 "nbformat": 4,
 "nbformat_minor": 1
}

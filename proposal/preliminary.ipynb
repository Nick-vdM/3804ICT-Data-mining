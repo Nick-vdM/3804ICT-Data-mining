{
 "cells": [
  {
   "cell_type": "markdown",
   "metadata": {
    "collapsed": true
   },
   "source": [
    "# Preliminary Data Report"
   ]
  },
  {
   "cell_type": "markdown",
   "metadata": {},
   "source": [
    "## Data Exploration\n",
    "\n",
    "This dataset has two tables that will be analysed. The first is the movie table, which includes the attributes of movies\n",
    "from the IMDB website. The second is the ratings table, which includes the ratings given to various movies by users of\n",
    "the website MovieLens.\n",
    "\n",
    "Below is a sample of the movies table."
   ]
  },
  {
   "cell_type": "code",
   "execution_count": 31,
   "metadata": {},
   "outputs": [
    {
     "data": {
      "text/plain": "  imdb_title_id                                              title  \\\n0     tt0000009                                         Miss Jerry   \n1     tt0000574                        The Story of the Kelly Gang   \n2     tt0001892                                     Den sorte drøm   \n3     tt0002101                                          Cleopatra   \n4     tt0002130                                          L'Inferno   \n5     tt0002199  From the Manger to the Cross; or, Jesus of Naz...   \n6     tt0002423                                     Madame DuBarry   \n7     tt0002445                                         Quo Vadis?   \n8     tt0002452                              Independenta Romaniei   \n9     tt0002461                                        Richard III   \n\n                                      original_title date_published  duration  \\\n0                                         Miss Jerry     1894-10-09        45   \n1                        The Story of the Kelly Gang     1906-12-26        70   \n2                                     Den sorte drøm     1911-08-19        53   \n3                                          Cleopatra     1912-11-13       100   \n4                                          L'Inferno     1911-03-06        68   \n5  From the Manger to the Cross; or, Jesus of Naz...           1913        60   \n6                                     Madame DuBarry     1919-11-26        85   \n7                                         Quo Vadis?     1913-03-01       120   \n8                              Independenta Romaniei     1912-09-01       120   \n9                                        Richard III     1912-10-15        55   \n\n            country language                               director  \\\n0               USA     None                        Alexander Black   \n1         Australia     None                           Charles Tait   \n2  Germany, Denmark      NaN                              Urban Gad   \n3               USA  English                     Charles L. Gaskill   \n4             Italy  Italian    Francesco Bertolini, Adolfo Padovan   \n5               USA  English                          Sidney Olcott   \n6           Germany   German                         Ernst Lubitsch   \n7             Italy  Italian                        Enrico Guazzoni   \n8           Romania      NaN  Aristide Demetriade, Grigore Brezeanu   \n9       France, USA  English           André Calmettes, James Keane   \n\n                                  writer  \\\n0                        Alexander Black   \n1                           Charles Tait   \n2  Urban Gad, Gebhard Schätzler-Perasini   \n3                       Victorien Sardou   \n4                        Dante Alighieri   \n5                          Gene Gauntier   \n6              Norbert Falk, Hanns Kräly   \n7    Henryk Sienkiewicz, Enrico Guazzoni   \n8       Aristide Demetriade, Petre Liciu   \n9       James Keane, William Shakespeare   \n\n                         production_company  \\\n0                Alexander Black Photoplays   \n1                            J. and N. Tait   \n2                                  Fotorama   \n3             Helen Gardner Picture Players   \n4                               Milano Film   \n5                             Kalem Company   \n6               Projektions-AG Union (PAGU)   \n7                    Società Italiana Cines   \n8  Societatea Filmului de Arta Leon Popescu   \n9                             Le Film d'Art   \n\n                                         description  avg_vote  votes  \\\n0  The adventures of a female reporter in the 1890s.       5.9    154   \n1  True story of notorious Australian outlaw Ned ...       6.1    589   \n2  Two men of high rank are both wooing the beaut...       5.8    188   \n3  The fabled queen of Egypt's affair with Roman ...       5.2    446   \n4  Loosely adapted from Dante's Divine Comedy and...       7.0   2237   \n5  An account of the life of Jesus Christ, based ...       5.7    484   \n6  The story of Madame DuBarry, the mistress of L...       6.8    753   \n7  An epic Italian film \"Quo Vadis\" influenced ma...       6.2    273   \n8  The movie depicts the Romanian War of Independ...       6.7    198   \n9  Richard of Gloucester uses manipulation and mu...       5.5    225   \n\n       budget usa_gross_income worlwide_gross_income  \\\n0         NaN              NaN                   NaN   \n1      $ 2250              NaN                   NaN   \n2         NaN              NaN                   NaN   \n3     $ 45000              NaN                   NaN   \n4         NaN              NaN                   NaN   \n5         NaN              NaN                   NaN   \n6         NaN              NaN                   NaN   \n7   ITL 45000              NaN                   NaN   \n8  ROL 400000              NaN                   NaN   \n9     $ 30000              NaN                   NaN   \n\n                         genre  \\\n0                    {Romance}   \n1    {Biography, Crime, Drama}   \n2                      {Drama}   \n3             {Drama, History}   \n4  {Adventure, Fantasy, Drama}   \n5           {Biography, Drama}   \n6  {Biography, Romance, Drama}   \n7             {Drama, History}   \n8               {War, History}   \n9                      {Drama}   \n\n                                              actors  year  metascore  \\\n0  {William Courtenay, Chauncey Depew, Blanche Ba...  1894         -1   \n1  {Bella Cola, Mr. Marshall, Ollie Wilson, Vera ...  1906         -1   \n2  {Hugo Flink, Gunnar Helsengreen, Asta Nielsen,...  1911         -1   \n3  {Miss Fielding, Helene Costello, Mr. Howard, M...  1912         -1   \n4  {Arturo Pirovano, Attilio Motta, Augusto Milla...  1911         -1   \n5  {Samuel Morgan, R. Henderson Bland, James D. A...  1912         -1   \n6  {Alexander Ekert, Else Berna, Gustav Czimeg, E...  1919         -1   \n7  {Matilde Guillaume, Augusto Mastripietri, Amel...  1913         -1   \n8  {Aurel Athanasescu, Pepi Machauer, Ion Dumitre...  1912         -1   \n9  {Violet Stuart, Robert Gemp, George Moss, Albe...  1912         -1   \n\n   reviews_from_users  reviews_from_critics  \n0                   1                     2  \n1                   7                     7  \n2                   5                     2  \n3                  25                     3  \n4                  31                    14  \n5                  13                     5  \n6                  12                     9  \n7                   7                     5  \n8                   4                     1  \n9                   8                     1  ",
      "text/html": "<div>\n<style scoped>\n    .dataframe tbody tr th:only-of-type {\n        vertical-align: middle;\n    }\n\n    .dataframe tbody tr th {\n        vertical-align: top;\n    }\n\n    .dataframe thead th {\n        text-align: right;\n    }\n</style>\n<table border=\"1\" class=\"dataframe\">\n  <thead>\n    <tr style=\"text-align: right;\">\n      <th></th>\n      <th>imdb_title_id</th>\n      <th>title</th>\n      <th>original_title</th>\n      <th>date_published</th>\n      <th>duration</th>\n      <th>country</th>\n      <th>language</th>\n      <th>director</th>\n      <th>writer</th>\n      <th>production_company</th>\n      <th>description</th>\n      <th>avg_vote</th>\n      <th>votes</th>\n      <th>budget</th>\n      <th>usa_gross_income</th>\n      <th>worlwide_gross_income</th>\n      <th>genre</th>\n      <th>actors</th>\n      <th>year</th>\n      <th>metascore</th>\n      <th>reviews_from_users</th>\n      <th>reviews_from_critics</th>\n    </tr>\n  </thead>\n  <tbody>\n    <tr>\n      <th>0</th>\n      <td>tt0000009</td>\n      <td>Miss Jerry</td>\n      <td>Miss Jerry</td>\n      <td>1894-10-09</td>\n      <td>45</td>\n      <td>USA</td>\n      <td>None</td>\n      <td>Alexander Black</td>\n      <td>Alexander Black</td>\n      <td>Alexander Black Photoplays</td>\n      <td>The adventures of a female reporter in the 1890s.</td>\n      <td>5.9</td>\n      <td>154</td>\n      <td>NaN</td>\n      <td>NaN</td>\n      <td>NaN</td>\n      <td>{Romance}</td>\n      <td>{William Courtenay, Chauncey Depew, Blanche Ba...</td>\n      <td>1894</td>\n      <td>-1</td>\n      <td>1</td>\n      <td>2</td>\n    </tr>\n    <tr>\n      <th>1</th>\n      <td>tt0000574</td>\n      <td>The Story of the Kelly Gang</td>\n      <td>The Story of the Kelly Gang</td>\n      <td>1906-12-26</td>\n      <td>70</td>\n      <td>Australia</td>\n      <td>None</td>\n      <td>Charles Tait</td>\n      <td>Charles Tait</td>\n      <td>J. and N. Tait</td>\n      <td>True story of notorious Australian outlaw Ned ...</td>\n      <td>6.1</td>\n      <td>589</td>\n      <td>$ 2250</td>\n      <td>NaN</td>\n      <td>NaN</td>\n      <td>{Biography, Crime, Drama}</td>\n      <td>{Bella Cola, Mr. Marshall, Ollie Wilson, Vera ...</td>\n      <td>1906</td>\n      <td>-1</td>\n      <td>7</td>\n      <td>7</td>\n    </tr>\n    <tr>\n      <th>2</th>\n      <td>tt0001892</td>\n      <td>Den sorte drøm</td>\n      <td>Den sorte drøm</td>\n      <td>1911-08-19</td>\n      <td>53</td>\n      <td>Germany, Denmark</td>\n      <td>NaN</td>\n      <td>Urban Gad</td>\n      <td>Urban Gad, Gebhard Schätzler-Perasini</td>\n      <td>Fotorama</td>\n      <td>Two men of high rank are both wooing the beaut...</td>\n      <td>5.8</td>\n      <td>188</td>\n      <td>NaN</td>\n      <td>NaN</td>\n      <td>NaN</td>\n      <td>{Drama}</td>\n      <td>{Hugo Flink, Gunnar Helsengreen, Asta Nielsen,...</td>\n      <td>1911</td>\n      <td>-1</td>\n      <td>5</td>\n      <td>2</td>\n    </tr>\n    <tr>\n      <th>3</th>\n      <td>tt0002101</td>\n      <td>Cleopatra</td>\n      <td>Cleopatra</td>\n      <td>1912-11-13</td>\n      <td>100</td>\n      <td>USA</td>\n      <td>English</td>\n      <td>Charles L. Gaskill</td>\n      <td>Victorien Sardou</td>\n      <td>Helen Gardner Picture Players</td>\n      <td>The fabled queen of Egypt's affair with Roman ...</td>\n      <td>5.2</td>\n      <td>446</td>\n      <td>$ 45000</td>\n      <td>NaN</td>\n      <td>NaN</td>\n      <td>{Drama, History}</td>\n      <td>{Miss Fielding, Helene Costello, Mr. Howard, M...</td>\n      <td>1912</td>\n      <td>-1</td>\n      <td>25</td>\n      <td>3</td>\n    </tr>\n    <tr>\n      <th>4</th>\n      <td>tt0002130</td>\n      <td>L'Inferno</td>\n      <td>L'Inferno</td>\n      <td>1911-03-06</td>\n      <td>68</td>\n      <td>Italy</td>\n      <td>Italian</td>\n      <td>Francesco Bertolini, Adolfo Padovan</td>\n      <td>Dante Alighieri</td>\n      <td>Milano Film</td>\n      <td>Loosely adapted from Dante's Divine Comedy and...</td>\n      <td>7.0</td>\n      <td>2237</td>\n      <td>NaN</td>\n      <td>NaN</td>\n      <td>NaN</td>\n      <td>{Adventure, Fantasy, Drama}</td>\n      <td>{Arturo Pirovano, Attilio Motta, Augusto Milla...</td>\n      <td>1911</td>\n      <td>-1</td>\n      <td>31</td>\n      <td>14</td>\n    </tr>\n    <tr>\n      <th>5</th>\n      <td>tt0002199</td>\n      <td>From the Manger to the Cross; or, Jesus of Naz...</td>\n      <td>From the Manger to the Cross; or, Jesus of Naz...</td>\n      <td>1913</td>\n      <td>60</td>\n      <td>USA</td>\n      <td>English</td>\n      <td>Sidney Olcott</td>\n      <td>Gene Gauntier</td>\n      <td>Kalem Company</td>\n      <td>An account of the life of Jesus Christ, based ...</td>\n      <td>5.7</td>\n      <td>484</td>\n      <td>NaN</td>\n      <td>NaN</td>\n      <td>NaN</td>\n      <td>{Biography, Drama}</td>\n      <td>{Samuel Morgan, R. Henderson Bland, James D. A...</td>\n      <td>1912</td>\n      <td>-1</td>\n      <td>13</td>\n      <td>5</td>\n    </tr>\n    <tr>\n      <th>6</th>\n      <td>tt0002423</td>\n      <td>Madame DuBarry</td>\n      <td>Madame DuBarry</td>\n      <td>1919-11-26</td>\n      <td>85</td>\n      <td>Germany</td>\n      <td>German</td>\n      <td>Ernst Lubitsch</td>\n      <td>Norbert Falk, Hanns Kräly</td>\n      <td>Projektions-AG Union (PAGU)</td>\n      <td>The story of Madame DuBarry, the mistress of L...</td>\n      <td>6.8</td>\n      <td>753</td>\n      <td>NaN</td>\n      <td>NaN</td>\n      <td>NaN</td>\n      <td>{Biography, Romance, Drama}</td>\n      <td>{Alexander Ekert, Else Berna, Gustav Czimeg, E...</td>\n      <td>1919</td>\n      <td>-1</td>\n      <td>12</td>\n      <td>9</td>\n    </tr>\n    <tr>\n      <th>7</th>\n      <td>tt0002445</td>\n      <td>Quo Vadis?</td>\n      <td>Quo Vadis?</td>\n      <td>1913-03-01</td>\n      <td>120</td>\n      <td>Italy</td>\n      <td>Italian</td>\n      <td>Enrico Guazzoni</td>\n      <td>Henryk Sienkiewicz, Enrico Guazzoni</td>\n      <td>Società Italiana Cines</td>\n      <td>An epic Italian film \"Quo Vadis\" influenced ma...</td>\n      <td>6.2</td>\n      <td>273</td>\n      <td>ITL 45000</td>\n      <td>NaN</td>\n      <td>NaN</td>\n      <td>{Drama, History}</td>\n      <td>{Matilde Guillaume, Augusto Mastripietri, Amel...</td>\n      <td>1913</td>\n      <td>-1</td>\n      <td>7</td>\n      <td>5</td>\n    </tr>\n    <tr>\n      <th>8</th>\n      <td>tt0002452</td>\n      <td>Independenta Romaniei</td>\n      <td>Independenta Romaniei</td>\n      <td>1912-09-01</td>\n      <td>120</td>\n      <td>Romania</td>\n      <td>NaN</td>\n      <td>Aristide Demetriade, Grigore Brezeanu</td>\n      <td>Aristide Demetriade, Petre Liciu</td>\n      <td>Societatea Filmului de Arta Leon Popescu</td>\n      <td>The movie depicts the Romanian War of Independ...</td>\n      <td>6.7</td>\n      <td>198</td>\n      <td>ROL 400000</td>\n      <td>NaN</td>\n      <td>NaN</td>\n      <td>{War, History}</td>\n      <td>{Aurel Athanasescu, Pepi Machauer, Ion Dumitre...</td>\n      <td>1912</td>\n      <td>-1</td>\n      <td>4</td>\n      <td>1</td>\n    </tr>\n    <tr>\n      <th>9</th>\n      <td>tt0002461</td>\n      <td>Richard III</td>\n      <td>Richard III</td>\n      <td>1912-10-15</td>\n      <td>55</td>\n      <td>France, USA</td>\n      <td>English</td>\n      <td>André Calmettes, James Keane</td>\n      <td>James Keane, William Shakespeare</td>\n      <td>Le Film d'Art</td>\n      <td>Richard of Gloucester uses manipulation and mu...</td>\n      <td>5.5</td>\n      <td>225</td>\n      <td>$ 30000</td>\n      <td>NaN</td>\n      <td>NaN</td>\n      <td>{Drama}</td>\n      <td>{Violet Stuart, Robert Gemp, George Moss, Albe...</td>\n      <td>1912</td>\n      <td>-1</td>\n      <td>8</td>\n      <td>1</td>\n    </tr>\n  </tbody>\n</table>\n</div>"
     },
     "execution_count": 31,
     "metadata": {},
     "output_type": "execute_result"
    }
   ],
   "source": [
    "import pickle\n",
    "import bz2\n",
    "import pandas as pd\n",
    "import numpy as np\n",
    "import matplotlib.pyplot as plt\n",
    "\n",
    "def read_in_pickle(filename):\n",
    "    bz2_file = bz2.BZ2File(filename, \"r\")\n",
    "    data = pickle.load(bz2_file)\n",
    "    return data\n",
    "\n",
    "movie_df = read_in_pickle(\"../pickles/organised_movies.pickle\")\n",
    "movie_df.head(10)"
   ]
  },
  {
   "cell_type": "markdown",
   "source": [
    "Below is a sample of the ratings database. The movies from the ratings database are linked to the IMDB database through\n",
    "the IMDB ID.\n"
   ],
   "metadata": {
    "collapsed": false,
    "pycharm": {
     "name": "#%% md\n"
    }
   }
  },
  {
   "cell_type": "code",
   "execution_count": 32,
   "outputs": [
    {
     "data": {
      "text/plain": "   userId  rating     imdbId\n0       1     4.0  tt0114709\n1       1     4.0  tt0113228\n2       1     4.0  tt0113277\n3       1     5.0  tt0114369\n4       1     5.0  tt0114814\n5       1     3.0  tt0116367\n6       1     5.0  tt0115734\n7       1     4.0  tt0112573\n8       1     5.0  tt0114287\n9       1     5.0  tt0109370",
      "text/html": "<div>\n<style scoped>\n    .dataframe tbody tr th:only-of-type {\n        vertical-align: middle;\n    }\n\n    .dataframe tbody tr th {\n        vertical-align: top;\n    }\n\n    .dataframe thead th {\n        text-align: right;\n    }\n</style>\n<table border=\"1\" class=\"dataframe\">\n  <thead>\n    <tr style=\"text-align: right;\">\n      <th></th>\n      <th>userId</th>\n      <th>rating</th>\n      <th>imdbId</th>\n    </tr>\n  </thead>\n  <tbody>\n    <tr>\n      <th>0</th>\n      <td>1</td>\n      <td>4.0</td>\n      <td>tt0114709</td>\n    </tr>\n    <tr>\n      <th>1</th>\n      <td>1</td>\n      <td>4.0</td>\n      <td>tt0113228</td>\n    </tr>\n    <tr>\n      <th>2</th>\n      <td>1</td>\n      <td>4.0</td>\n      <td>tt0113277</td>\n    </tr>\n    <tr>\n      <th>3</th>\n      <td>1</td>\n      <td>5.0</td>\n      <td>tt0114369</td>\n    </tr>\n    <tr>\n      <th>4</th>\n      <td>1</td>\n      <td>5.0</td>\n      <td>tt0114814</td>\n    </tr>\n    <tr>\n      <th>5</th>\n      <td>1</td>\n      <td>3.0</td>\n      <td>tt0116367</td>\n    </tr>\n    <tr>\n      <th>6</th>\n      <td>1</td>\n      <td>5.0</td>\n      <td>tt0115734</td>\n    </tr>\n    <tr>\n      <th>7</th>\n      <td>1</td>\n      <td>4.0</td>\n      <td>tt0112573</td>\n    </tr>\n    <tr>\n      <th>8</th>\n      <td>1</td>\n      <td>5.0</td>\n      <td>tt0114287</td>\n    </tr>\n    <tr>\n      <th>9</th>\n      <td>1</td>\n      <td>5.0</td>\n      <td>tt0109370</td>\n    </tr>\n  </tbody>\n</table>\n</div>"
     },
     "execution_count": 32,
     "metadata": {},
     "output_type": "execute_result"
    }
   ],
   "source": [
    "rating_df = read_in_pickle(\"../pickles/organised_ratings.pickle\")\n",
    "rating_df.head(10)"
   ],
   "metadata": {
    "collapsed": false,
    "pycharm": {
     "name": "#%%\n"
    }
   }
  },
  {
   "cell_type": "markdown",
   "metadata": {},
   "source": [
    "#### Attribute Types\n",
    "Below are the data types of attributes in both tables. Note: types listed as \"object\" are strings, and genre and actors\n",
    "are sets of strings."
   ]
  },
  {
   "cell_type": "code",
   "execution_count": 33,
   "metadata": {},
   "outputs": [
    {
     "name": "stdout",
     "output_type": "stream",
     "text": [
      "MOVIES\n",
      "imdb_title_id             object\n",
      "title                     object\n",
      "original_title            object\n",
      "date_published            object\n",
      "duration                   int32\n",
      "country                   object\n",
      "language                  object\n",
      "director                  object\n",
      "writer                    object\n",
      "production_company        object\n",
      "description               object\n",
      "avg_vote                 float64\n",
      "votes                      int32\n",
      "budget                    object\n",
      "usa_gross_income          object\n",
      "worlwide_gross_income     object\n",
      "genre                     object\n",
      "actors                    object\n",
      "year                       int64\n",
      "metascore                  int64\n",
      "reviews_from_users         int64\n",
      "reviews_from_critics       int64\n",
      "dtype: object\n",
      "RATINGS\n",
      "userId      int64\n",
      "rating    float64\n",
      "imdbId     object\n",
      "dtype: object\n"
     ]
    }
   ],
   "source": [
    "pd.set_option('display.max_rows', None)\n",
    "pd.set_option('display.max_columns', None)\n",
    "\n",
    "print(\"MOVIES\")\n",
    "print(movie_df.dtypes)\n",
    "\n",
    "print(\"RATINGS\")\n",
    "print(rating_df.dtypes)"
   ]
  },
  {
   "cell_type": "markdown",
   "metadata": {},
   "source": [
    "#### Data Dimensions\n",
    "\n",
    "Below are the dimensions of both tables."
   ]
  },
  {
   "cell_type": "code",
   "execution_count": 34,
   "metadata": {
    "scrolled": true
   },
   "outputs": [
    {
     "name": "stdout",
     "output_type": "stream",
     "text": [
      "MOVIES\n",
      "Total Number of Attributes:  22\n",
      "Total Number of Samples:  85855\n",
      "Total Number of Cells:  1888810\n",
      "RATINGS\n",
      "Total Number of Attributes:  3\n",
      "Total Number of Samples:  100836\n",
      "Total Number of Cells:  302508\n"
     ]
    }
   ],
   "source": [
    "print(\"MOVIES\")\n",
    "print(\"Total Number of Attributes: \", movie_df.shape[1])\n",
    "print(\"Total Number of Samples: \", movie_df.shape[0])\n",
    "print(\"Total Number of Cells: \", movie_df.size)\n",
    "\n",
    "print(\"RATINGS\")\n",
    "print(\"Total Number of Attributes: \", rating_df.shape[1])\n",
    "print(\"Total Number of Samples: \", rating_df.shape[0])\n",
    "print(\"Total Number of Cells: \", rating_df.size)"
   ]
  },
  {
   "cell_type": "markdown",
   "metadata": {},
   "source": [
    "#### Data Summaries\n",
    "\n",
    "Below are the basic summaries of both datasets' categories. The numerical categories have five number summaries,\n",
    "while the categorical categories have their unique values listed."
   ]
  },
  {
   "cell_type": "code",
   "execution_count": 35,
   "metadata": {},
   "outputs": [
    {
     "name": "stdout",
     "output_type": "stream",
     "text": [
      "MOVIES\n",
      "           duration      avg_vote         votes          year     metascore  \\\n",
      "count  85855.000000  85855.000000  8.585500e+04  85855.000000  85855.000000   \n",
      "mean     100.351418      5.898656  9.493490e+03   1993.500891      7.817343   \n",
      "std       22.553848      1.234987  5.357436e+04     24.216420     21.747484   \n",
      "min       41.000000      1.000000  9.900000e+01   1894.000000     -1.000000   \n",
      "25%       88.000000      5.200000  2.050000e+02   1979.000000     -1.000000   \n",
      "50%       96.000000      6.100000  4.840000e+02   2003.000000     -1.000000   \n",
      "75%      108.000000      6.800000  1.766500e+03   2013.000000     -1.000000   \n",
      "max      808.000000      9.900000  2.278845e+06   2020.000000    100.000000   \n",
      "\n",
      "       reviews_from_users  reviews_from_critics  \n",
      "count        85855.000000          85855.000000  \n",
      "mean            41.878353             23.566665  \n",
      "std            170.953318             55.063006  \n",
      "min             -1.000000             -1.000000  \n",
      "25%              2.000000              2.000000  \n",
      "50%              8.000000              6.000000  \n",
      "75%             23.000000             19.000000  \n",
      "max          10472.000000            999.000000  \n",
      "RATINGS\n",
      "              userId         rating\n",
      "count  100836.000000  100836.000000\n",
      "mean      326.127564       3.501557\n",
      "std       182.618491       1.042529\n",
      "min         1.000000       0.500000\n",
      "25%       177.000000       3.000000\n",
      "50%       325.000000       3.500000\n",
      "75%       477.000000       4.000000\n",
      "max       610.000000       5.000000\n"
     ]
    }
   ],
   "source": [
    "print(\"MOVIES\")\n",
    "print(movie_df.describe())\n",
    "\n",
    "print(\"RATINGS\")\n",
    "print(rating_df.describe())"
   ]
  },
  {
   "cell_type": "code",
   "execution_count": 36,
   "metadata": {},
   "outputs": [
    {
     "name": "stdout",
     "output_type": "stream",
     "text": [
      "MOVIES\n",
      "imdb_title_id\n",
      "['tt0000009' 'tt0000574' 'tt0001892' ... 'tt9911774' 'tt9914286'\n",
      " 'tt9914942']\n",
      "title\n",
      "['Miss Jerry' 'The Story of the Kelly Gang' 'Den sorte drøm' ...\n",
      " 'Padmavyuhathile Abhimanyu' 'Sokagin Çocuklari'\n",
      " 'La vida sense la Sara Amat']\n",
      "original_title\n",
      "['Miss Jerry' 'The Story of the Kelly Gang' 'Den sorte drøm' ...\n",
      " 'Padmavyuhathile Abhimanyu' 'Sokagin Çocuklari'\n",
      " 'La vida sense la Sara Amat']\n",
      "date_published\n",
      "['1894-10-09' '1906-12-26' '1911-08-19' ... '2020-10-22' '2019-01-13'\n",
      " '2020-09-04']\n",
      "country\n",
      "['USA' 'Australia' 'Germany, Denmark' ...\n",
      " 'Iran, France, Germany, Switzerland, Luxembourg, Lebanon'\n",
      " 'Spain, Portugal, Argentina' 'India, Netherlands, Singapore']\n",
      "language\n",
      "['None' nan 'English' ... 'Persian, Urdu' 'English, Swiss German, German'\n",
      " 'English, Polish, Russian, German']\n",
      "director\n",
      "['Alexander Black' 'Charles Tait' 'Urban Gad' ... 'Ludovic Colbeau-Justin'\n",
      " 'Vineesh Aaradya' 'Laura Jou']\n",
      "writer\n",
      "['Alexander Black' 'Charles Tait' 'Urban Gad, Gebhard Schätzler-Perasini'\n",
      " ... 'Vineesh Aaradya, Vineesh Aaradya' 'Ahmet Faik Akinci, Kasim Uçkan'\n",
      " 'Coral Cruz, Pep Puig']\n",
      "production_company\n",
      "['Alexander Black Photoplays' 'J. and N. Tait' 'Fotorama' ...\n",
      " 'RMCC Productions' 'Gizem Ajans' 'La Xarxa de Comunicació Local']\n",
      "description\n",
      "['The adventures of a female reporter in the 1890s.'\n",
      " 'True story of notorious Australian outlaw Ned Kelly (1855-80).'\n",
      " \"Two men of high rank are both wooing the beautiful and famous equestrian acrobat Stella. While Stella ignores the jeweler Hirsch, she accepts Count von Waldberg's offer to follow her home, ...\"\n",
      " ...\n",
      " 'A psychiatric hospital patient pretends to be crazy. In charge of caring for this patient, a caregiver will begin to doubt the mental state of his \"protégé\".'\n",
      " 'A middle-aged veterinary surgeon believes his wife pampers him too much. In order to get away from her, he fakes the onset of dementia.'\n",
      " 'Pep, a 13-year-old boy, is in love with a girl from his grandparents village, Sara Amat. One summer night Sara disappears without a trace. After a few hours, Pep finds her hiding in his room.']\n",
      "budget\n",
      "[nan '$ 2250' '$ 45000' ... 'CAD 3850000' 'IRR 35000000000' 'MYR 20000000']\n",
      "usa_gross_income\n",
      "[nan '$ 3270000' '$ 8811' ... '$ 265279' '$ 66309' '$ 1294596']\n",
      "worlwide_gross_income\n",
      "[nan '$ 144968' '$ 8811' ... '$ 7299062' '$ 2833' '$ 59794']\n",
      "year\n",
      "[1894 1906 1911 1912 1919 1913 1914 1915 1916 1917 1918 1920 1921 1924\n",
      " 1922 1923 1925 1926 1935 1927 1928 1983 1929 1930 1932 1931 1937 1938\n",
      " 1933 1934 1936 1940 1939 1942 1943 1941 1948 1944 2001 1946 1945 1947\n",
      " 1973 1949 1950 1952 1951 1962 1953 1954 1955 1961 1956 1958 1957 1959\n",
      " 1960 1963 1965 1971 1964 1966 1968 1967 1969 1976 1970 1979 1972 1981\n",
      " 1978 2000 1989 1975 1974 1986 1990 2018 1977 1982 1980 1993 1984 1985\n",
      " 1988 1987 2005 1991 2002 1994 1992 1995 2017 1997 1996 2006 1999 1998\n",
      " 2007 2008 2003 2004 2010 2009 2011 2013 2012 2016 2015 2014 2019 2020]\n",
      "metascore\n",
      "[ -1  99  98  66  90  69  89  91  77  88  70  76  80  83  81  93  72  87\n",
      "  92  50  53  95  44  86  74  96  85  97  73  67 100  78  63  59  79  61\n",
      "  62  64  68  84  94  60  55  43  54  75  82  58  71  65  41  51  45  56\n",
      "  48  57  49  40  47  46  34  32  42  35  23  52  37  25  36  39  38  27\n",
      "  31  33  19  30  28  22   9  10  29  11  26  24  20  15  13  18  16  12\n",
      "  17   5   1  21   4   8   7  14   6   3]\n",
      "reviews_from_users\n",
      "[   1    7    5 ... 1731  567  673]\n",
      "reviews_from_critics\n",
      "[  2   7   3  14   5   9   1  28  23   4  18  -1  26  11   8  97  19   6\n",
      "  15  53  24  77  16  13  17  10  12  21  78  25 160  22  67  49  30 105\n",
      "  82  43  34  31 202  47  93  36  27  39  42  51  20  71  33  65  54  85\n",
      "  29 125  50  64  99  87 208  57  52 117  63  44 186  92  40 137  46  69\n",
      "  35  32  41 102 101  37  72 122 163 155  66  62 158  88  45 103 107  86\n",
      " 139  94  74 109 116 162 120  38  90  68  56  76 115  58  61  75  59 136\n",
      "  55 173  48  89 197  95 114  70 168 119 141  60 128 140 200 248 130 134\n",
      "  84 118 196 126  80  79  81 147 123  83 135 111 110 177 106 145  73 104\n",
      "  98 252 178 124  96 138 129 143 157 113 100 127 211 165 156 149 150 121\n",
      " 131 182 174 108 167 224 201 233 236 184 142 146 153 237 151 112  91 267\n",
      " 133 226 152 259 132 189 253 166 209 144 171 263 169 256 309 175 213 207\n",
      " 191 190 289 230 192 274 148 417 199 464 305 238 243 181 228 265 194 360\n",
      " 235 250 204 154 214 258 257 255 359 266 179 343 187 246 216 159 195 310\n",
      " 223 227 292 268 193 218 276 295 176 205 229 170 212 296 350 232 161 164\n",
      " 210 264 185 180 172 188 206 331 301 340 311 273 325 391 183 342 370 215\n",
      " 322 240 318 353 324 198 219 262 410 314 222 287 288 282 260 374 242 249\n",
      " 290 239 272 270 294 321 225 327 247 241 336 404 254 371 297 275 203 419\n",
      " 244 278 381 525 269 293 286 300 362 291 470 285 231 245 698 540 379 349\n",
      " 234 217 283 352 313 299 330 323 345 307 302 455 439 386 402 383 485 441\n",
      " 365 421 468 396 277 317 326 261 337 357 363 361 477 368 436 333 564 351\n",
      " 271 409 425 713 280 567 328 457 557 308 312 385 384 399 423 344 428 251\n",
      " 493 524 616 585 220 221 279 733 319 769 705 377 306 486 412 544 398 563\n",
      " 347 320 625 672 281 338 642 394 755 284 393 669 369 444 332 316 341 535\n",
      " 626 346 416 710 463 401 460 453 432 645 418 471 315 668 561 473 420 403\n",
      " 376 469 580 740 541 348 487 523 339 442 354 496 389 536 303 521 443 378\n",
      " 413 454 406 372 335 304 467 584 364 480 509 446 495 459 411 334 676 434\n",
      " 529 620 581 568 689 643 438 298 560 433 517 491 450 475 547 405 424 703\n",
      " 687 830 494 629 437 390 366 662 506 833 395 782 566 407 503 512 466 528\n",
      " 431 408 545 631 373 562 648 609 582 427 490 507 499 461 356 430 611 447\n",
      " 685 614 838 539 570 392 533 526 358 498 382 721 617 355 489 589 458 472\n",
      " 640 400 422 375 440 572 623 449 574 445 387 456 586 513 693 909 717 502\n",
      " 725 628 583 435 522 462 813 500 479 414 644 488 696 670 520 426 504 715\n",
      " 329 546 695 452 483 429 397 451 624 577 734 537 999 476 415 542 527 613\n",
      " 474 448]\n",
      "RATINGS\n",
      "imdbId\n",
      "['tt0114709' 'tt0113228' 'tt0113277' ... 'tt0798722' 'tt1540011'\n",
      " 'tt3835080']\n"
     ]
    }
   ],
   "source": [
    "print(\"MOVIES\")\n",
    "for (columnName, columnData) in movie_df.iteritems():\n",
    "    if columnName in [\"actors\", \"genre\", \"userId\"] or movie_df[columnName].dtypes in [np.float64, np.int32]:\n",
    "        continue\n",
    "    print(columnName)\n",
    "    print(pd.unique(movie_df[columnName]))\n",
    "\n",
    "print(\"RATINGS\")\n",
    "for (columnName, columnData) in rating_df.iteritems():\n",
    "    if columnName in [\"actors\", \"genre\", \"userId\"] or rating_df[columnName].dtypes in [np.float64, np.int32]:\n",
    "        continue\n",
    "    print(columnName)\n",
    "    print(pd.unique(rating_df[columnName]))"
   ]
  },
  {
   "cell_type": "markdown",
   "metadata": {},
   "source": [
    "## Data Visualisation\n",
    "\n",
    "Below are the visualisations of both datasets' numerical categories.\n",
    "\n",
    "### Movies"
   ]
  },
  {
   "cell_type": "code",
   "execution_count": 37,
   "metadata": {},
   "outputs": [
    {
     "name": "stdout",
     "output_type": "stream",
     "text": [
      "duration\n",
      "avg_vote\n",
      "votes\n",
      "Error in callback <function flush_figures at 0x0000024569965CA0> (for post_execute):\n"
     ]
    },
    {
     "ename": "KeyboardInterrupt",
     "evalue": "",
     "output_type": "error",
     "traceback": [
      "\u001B[1;31m---------------------------------------------------------------------------\u001B[0m",
      "\u001B[1;31mKeyboardInterrupt\u001B[0m                         Traceback (most recent call last)",
      "\u001B[1;32mc:\\users\\william\\pycharmprojects\\3804ict-data-mining\\venv\\lib\\site-packages\\matplotlib_inline\\backend_inline.py\u001B[0m in \u001B[0;36mflush_figures\u001B[1;34m()\u001B[0m\n\u001B[0;32m    119\u001B[0m         \u001B[1;31m# ignore the tracking, just draw and close all figures\u001B[0m\u001B[1;33m\u001B[0m\u001B[1;33m\u001B[0m\u001B[1;33m\u001B[0m\u001B[0m\n\u001B[0;32m    120\u001B[0m         \u001B[1;32mtry\u001B[0m\u001B[1;33m:\u001B[0m\u001B[1;33m\u001B[0m\u001B[1;33m\u001B[0m\u001B[0m\n\u001B[1;32m--> 121\u001B[1;33m             \u001B[1;32mreturn\u001B[0m \u001B[0mshow\u001B[0m\u001B[1;33m(\u001B[0m\u001B[1;32mTrue\u001B[0m\u001B[1;33m)\u001B[0m\u001B[1;33m\u001B[0m\u001B[1;33m\u001B[0m\u001B[0m\n\u001B[0m\u001B[0;32m    122\u001B[0m         \u001B[1;32mexcept\u001B[0m \u001B[0mException\u001B[0m \u001B[1;32mas\u001B[0m \u001B[0me\u001B[0m\u001B[1;33m:\u001B[0m\u001B[1;33m\u001B[0m\u001B[1;33m\u001B[0m\u001B[0m\n\u001B[0;32m    123\u001B[0m             \u001B[1;31m# safely show traceback if in IPython, else raise\u001B[0m\u001B[1;33m\u001B[0m\u001B[1;33m\u001B[0m\u001B[1;33m\u001B[0m\u001B[0m\n",
      "\u001B[1;32mc:\\users\\william\\pycharmprojects\\3804ict-data-mining\\venv\\lib\\site-packages\\matplotlib_inline\\backend_inline.py\u001B[0m in \u001B[0;36mshow\u001B[1;34m(close, block)\u001B[0m\n\u001B[0;32m     39\u001B[0m     \u001B[1;32mtry\u001B[0m\u001B[1;33m:\u001B[0m\u001B[1;33m\u001B[0m\u001B[1;33m\u001B[0m\u001B[0m\n\u001B[0;32m     40\u001B[0m         \u001B[1;32mfor\u001B[0m \u001B[0mfigure_manager\u001B[0m \u001B[1;32min\u001B[0m \u001B[0mGcf\u001B[0m\u001B[1;33m.\u001B[0m\u001B[0mget_all_fig_managers\u001B[0m\u001B[1;33m(\u001B[0m\u001B[1;33m)\u001B[0m\u001B[1;33m:\u001B[0m\u001B[1;33m\u001B[0m\u001B[1;33m\u001B[0m\u001B[0m\n\u001B[1;32m---> 41\u001B[1;33m             display(\n\u001B[0m\u001B[0;32m     42\u001B[0m                 \u001B[0mfigure_manager\u001B[0m\u001B[1;33m.\u001B[0m\u001B[0mcanvas\u001B[0m\u001B[1;33m.\u001B[0m\u001B[0mfigure\u001B[0m\u001B[1;33m,\u001B[0m\u001B[1;33m\u001B[0m\u001B[1;33m\u001B[0m\u001B[0m\n\u001B[0;32m     43\u001B[0m                 \u001B[0mmetadata\u001B[0m\u001B[1;33m=\u001B[0m\u001B[0m_fetch_figure_metadata\u001B[0m\u001B[1;33m(\u001B[0m\u001B[0mfigure_manager\u001B[0m\u001B[1;33m.\u001B[0m\u001B[0mcanvas\u001B[0m\u001B[1;33m.\u001B[0m\u001B[0mfigure\u001B[0m\u001B[1;33m)\u001B[0m\u001B[1;33m\u001B[0m\u001B[1;33m\u001B[0m\u001B[0m\n",
      "\u001B[1;32mc:\\users\\william\\pycharmprojects\\3804ict-data-mining\\venv\\lib\\site-packages\\IPython\\core\\display.py\u001B[0m in \u001B[0;36mdisplay\u001B[1;34m(include, exclude, metadata, transient, display_id, *objs, **kwargs)\u001B[0m\n\u001B[0;32m    318\u001B[0m             \u001B[0mpublish_display_data\u001B[0m\u001B[1;33m(\u001B[0m\u001B[0mdata\u001B[0m\u001B[1;33m=\u001B[0m\u001B[0mobj\u001B[0m\u001B[1;33m,\u001B[0m \u001B[0mmetadata\u001B[0m\u001B[1;33m=\u001B[0m\u001B[0mmetadata\u001B[0m\u001B[1;33m,\u001B[0m \u001B[1;33m**\u001B[0m\u001B[0mkwargs\u001B[0m\u001B[1;33m)\u001B[0m\u001B[1;33m\u001B[0m\u001B[1;33m\u001B[0m\u001B[0m\n\u001B[0;32m    319\u001B[0m         \u001B[1;32melse\u001B[0m\u001B[1;33m:\u001B[0m\u001B[1;33m\u001B[0m\u001B[1;33m\u001B[0m\u001B[0m\n\u001B[1;32m--> 320\u001B[1;33m             \u001B[0mformat_dict\u001B[0m\u001B[1;33m,\u001B[0m \u001B[0mmd_dict\u001B[0m \u001B[1;33m=\u001B[0m \u001B[0mformat\u001B[0m\u001B[1;33m(\u001B[0m\u001B[0mobj\u001B[0m\u001B[1;33m,\u001B[0m \u001B[0minclude\u001B[0m\u001B[1;33m=\u001B[0m\u001B[0minclude\u001B[0m\u001B[1;33m,\u001B[0m \u001B[0mexclude\u001B[0m\u001B[1;33m=\u001B[0m\u001B[0mexclude\u001B[0m\u001B[1;33m)\u001B[0m\u001B[1;33m\u001B[0m\u001B[1;33m\u001B[0m\u001B[0m\n\u001B[0m\u001B[0;32m    321\u001B[0m             \u001B[1;32mif\u001B[0m \u001B[1;32mnot\u001B[0m \u001B[0mformat_dict\u001B[0m\u001B[1;33m:\u001B[0m\u001B[1;33m\u001B[0m\u001B[1;33m\u001B[0m\u001B[0m\n\u001B[0;32m    322\u001B[0m                 \u001B[1;31m# nothing to display (e.g. _ipython_display_ took over)\u001B[0m\u001B[1;33m\u001B[0m\u001B[1;33m\u001B[0m\u001B[1;33m\u001B[0m\u001B[0m\n",
      "\u001B[1;32mc:\\users\\william\\pycharmprojects\\3804ict-data-mining\\venv\\lib\\site-packages\\IPython\\core\\formatters.py\u001B[0m in \u001B[0;36mformat\u001B[1;34m(self, obj, include, exclude)\u001B[0m\n\u001B[0;32m    178\u001B[0m             \u001B[0mmd\u001B[0m \u001B[1;33m=\u001B[0m \u001B[1;32mNone\u001B[0m\u001B[1;33m\u001B[0m\u001B[1;33m\u001B[0m\u001B[0m\n\u001B[0;32m    179\u001B[0m             \u001B[1;32mtry\u001B[0m\u001B[1;33m:\u001B[0m\u001B[1;33m\u001B[0m\u001B[1;33m\u001B[0m\u001B[0m\n\u001B[1;32m--> 180\u001B[1;33m                 \u001B[0mdata\u001B[0m \u001B[1;33m=\u001B[0m \u001B[0mformatter\u001B[0m\u001B[1;33m(\u001B[0m\u001B[0mobj\u001B[0m\u001B[1;33m)\u001B[0m\u001B[1;33m\u001B[0m\u001B[1;33m\u001B[0m\u001B[0m\n\u001B[0m\u001B[0;32m    181\u001B[0m             \u001B[1;32mexcept\u001B[0m\u001B[1;33m:\u001B[0m\u001B[1;33m\u001B[0m\u001B[1;33m\u001B[0m\u001B[0m\n\u001B[0;32m    182\u001B[0m                 \u001B[1;31m# FIXME: log the exception\u001B[0m\u001B[1;33m\u001B[0m\u001B[1;33m\u001B[0m\u001B[1;33m\u001B[0m\u001B[0m\n",
      "\u001B[1;32mc:\\users\\william\\pycharmprojects\\3804ict-data-mining\\venv\\lib\\site-packages\\decorator.py\u001B[0m in \u001B[0;36mfun\u001B[1;34m(*args, **kw)\u001B[0m\n\u001B[0;32m    230\u001B[0m             \u001B[1;32mif\u001B[0m \u001B[1;32mnot\u001B[0m \u001B[0mkwsyntax\u001B[0m\u001B[1;33m:\u001B[0m\u001B[1;33m\u001B[0m\u001B[1;33m\u001B[0m\u001B[0m\n\u001B[0;32m    231\u001B[0m                 \u001B[0margs\u001B[0m\u001B[1;33m,\u001B[0m \u001B[0mkw\u001B[0m \u001B[1;33m=\u001B[0m \u001B[0mfix\u001B[0m\u001B[1;33m(\u001B[0m\u001B[0margs\u001B[0m\u001B[1;33m,\u001B[0m \u001B[0mkw\u001B[0m\u001B[1;33m,\u001B[0m \u001B[0msig\u001B[0m\u001B[1;33m)\u001B[0m\u001B[1;33m\u001B[0m\u001B[1;33m\u001B[0m\u001B[0m\n\u001B[1;32m--> 232\u001B[1;33m             \u001B[1;32mreturn\u001B[0m \u001B[0mcaller\u001B[0m\u001B[1;33m(\u001B[0m\u001B[0mfunc\u001B[0m\u001B[1;33m,\u001B[0m \u001B[1;33m*\u001B[0m\u001B[1;33m(\u001B[0m\u001B[0mextras\u001B[0m \u001B[1;33m+\u001B[0m \u001B[0margs\u001B[0m\u001B[1;33m)\u001B[0m\u001B[1;33m,\u001B[0m \u001B[1;33m**\u001B[0m\u001B[0mkw\u001B[0m\u001B[1;33m)\u001B[0m\u001B[1;33m\u001B[0m\u001B[1;33m\u001B[0m\u001B[0m\n\u001B[0m\u001B[0;32m    233\u001B[0m     \u001B[0mfun\u001B[0m\u001B[1;33m.\u001B[0m\u001B[0m__name__\u001B[0m \u001B[1;33m=\u001B[0m \u001B[0mfunc\u001B[0m\u001B[1;33m.\u001B[0m\u001B[0m__name__\u001B[0m\u001B[1;33m\u001B[0m\u001B[1;33m\u001B[0m\u001B[0m\n\u001B[0;32m    234\u001B[0m     \u001B[0mfun\u001B[0m\u001B[1;33m.\u001B[0m\u001B[0m__doc__\u001B[0m \u001B[1;33m=\u001B[0m \u001B[0mfunc\u001B[0m\u001B[1;33m.\u001B[0m\u001B[0m__doc__\u001B[0m\u001B[1;33m\u001B[0m\u001B[1;33m\u001B[0m\u001B[0m\n",
      "\u001B[1;32mc:\\users\\william\\pycharmprojects\\3804ict-data-mining\\venv\\lib\\site-packages\\IPython\\core\\formatters.py\u001B[0m in \u001B[0;36mcatch_format_error\u001B[1;34m(method, self, *args, **kwargs)\u001B[0m\n\u001B[0;32m    222\u001B[0m     \u001B[1;34m\"\"\"show traceback on failed format call\"\"\"\u001B[0m\u001B[1;33m\u001B[0m\u001B[1;33m\u001B[0m\u001B[0m\n\u001B[0;32m    223\u001B[0m     \u001B[1;32mtry\u001B[0m\u001B[1;33m:\u001B[0m\u001B[1;33m\u001B[0m\u001B[1;33m\u001B[0m\u001B[0m\n\u001B[1;32m--> 224\u001B[1;33m         \u001B[0mr\u001B[0m \u001B[1;33m=\u001B[0m \u001B[0mmethod\u001B[0m\u001B[1;33m(\u001B[0m\u001B[0mself\u001B[0m\u001B[1;33m,\u001B[0m \u001B[1;33m*\u001B[0m\u001B[0margs\u001B[0m\u001B[1;33m,\u001B[0m \u001B[1;33m**\u001B[0m\u001B[0mkwargs\u001B[0m\u001B[1;33m)\u001B[0m\u001B[1;33m\u001B[0m\u001B[1;33m\u001B[0m\u001B[0m\n\u001B[0m\u001B[0;32m    225\u001B[0m     \u001B[1;32mexcept\u001B[0m \u001B[0mNotImplementedError\u001B[0m\u001B[1;33m:\u001B[0m\u001B[1;33m\u001B[0m\u001B[1;33m\u001B[0m\u001B[0m\n\u001B[0;32m    226\u001B[0m         \u001B[1;31m# don't warn on NotImplementedErrors\u001B[0m\u001B[1;33m\u001B[0m\u001B[1;33m\u001B[0m\u001B[1;33m\u001B[0m\u001B[0m\n",
      "\u001B[1;32mc:\\users\\william\\pycharmprojects\\3804ict-data-mining\\venv\\lib\\site-packages\\IPython\\core\\formatters.py\u001B[0m in \u001B[0;36m__call__\u001B[1;34m(self, obj)\u001B[0m\n\u001B[0;32m    339\u001B[0m                 \u001B[1;32mpass\u001B[0m\u001B[1;33m\u001B[0m\u001B[1;33m\u001B[0m\u001B[0m\n\u001B[0;32m    340\u001B[0m             \u001B[1;32melse\u001B[0m\u001B[1;33m:\u001B[0m\u001B[1;33m\u001B[0m\u001B[1;33m\u001B[0m\u001B[0m\n\u001B[1;32m--> 341\u001B[1;33m                 \u001B[1;32mreturn\u001B[0m \u001B[0mprinter\u001B[0m\u001B[1;33m(\u001B[0m\u001B[0mobj\u001B[0m\u001B[1;33m)\u001B[0m\u001B[1;33m\u001B[0m\u001B[1;33m\u001B[0m\u001B[0m\n\u001B[0m\u001B[0;32m    342\u001B[0m             \u001B[1;31m# Finally look for special method names\u001B[0m\u001B[1;33m\u001B[0m\u001B[1;33m\u001B[0m\u001B[1;33m\u001B[0m\u001B[0m\n\u001B[0;32m    343\u001B[0m             \u001B[0mmethod\u001B[0m \u001B[1;33m=\u001B[0m \u001B[0mget_real_method\u001B[0m\u001B[1;33m(\u001B[0m\u001B[0mobj\u001B[0m\u001B[1;33m,\u001B[0m \u001B[0mself\u001B[0m\u001B[1;33m.\u001B[0m\u001B[0mprint_method\u001B[0m\u001B[1;33m)\u001B[0m\u001B[1;33m\u001B[0m\u001B[1;33m\u001B[0m\u001B[0m\n",
      "\u001B[1;32mc:\\users\\william\\pycharmprojects\\3804ict-data-mining\\venv\\lib\\site-packages\\IPython\\core\\pylabtools.py\u001B[0m in \u001B[0;36m<lambda>\u001B[1;34m(fig)\u001B[0m\n\u001B[0;32m    251\u001B[0m \u001B[1;33m\u001B[0m\u001B[0m\n\u001B[0;32m    252\u001B[0m     \u001B[1;32mif\u001B[0m \u001B[1;34m'png'\u001B[0m \u001B[1;32min\u001B[0m \u001B[0mformats\u001B[0m\u001B[1;33m:\u001B[0m\u001B[1;33m\u001B[0m\u001B[1;33m\u001B[0m\u001B[0m\n\u001B[1;32m--> 253\u001B[1;33m         \u001B[0mpng_formatter\u001B[0m\u001B[1;33m.\u001B[0m\u001B[0mfor_type\u001B[0m\u001B[1;33m(\u001B[0m\u001B[0mFigure\u001B[0m\u001B[1;33m,\u001B[0m \u001B[1;32mlambda\u001B[0m \u001B[0mfig\u001B[0m\u001B[1;33m:\u001B[0m \u001B[0mprint_figure\u001B[0m\u001B[1;33m(\u001B[0m\u001B[0mfig\u001B[0m\u001B[1;33m,\u001B[0m \u001B[1;34m'png'\u001B[0m\u001B[1;33m,\u001B[0m \u001B[1;33m**\u001B[0m\u001B[0mkwargs\u001B[0m\u001B[1;33m)\u001B[0m\u001B[1;33m)\u001B[0m\u001B[1;33m\u001B[0m\u001B[1;33m\u001B[0m\u001B[0m\n\u001B[0m\u001B[0;32m    254\u001B[0m     \u001B[1;32mif\u001B[0m \u001B[1;34m'retina'\u001B[0m \u001B[1;32min\u001B[0m \u001B[0mformats\u001B[0m \u001B[1;32mor\u001B[0m \u001B[1;34m'png2x'\u001B[0m \u001B[1;32min\u001B[0m \u001B[0mformats\u001B[0m\u001B[1;33m:\u001B[0m\u001B[1;33m\u001B[0m\u001B[1;33m\u001B[0m\u001B[0m\n\u001B[0;32m    255\u001B[0m         \u001B[0mpng_formatter\u001B[0m\u001B[1;33m.\u001B[0m\u001B[0mfor_type\u001B[0m\u001B[1;33m(\u001B[0m\u001B[0mFigure\u001B[0m\u001B[1;33m,\u001B[0m \u001B[1;32mlambda\u001B[0m \u001B[0mfig\u001B[0m\u001B[1;33m:\u001B[0m \u001B[0mretina_figure\u001B[0m\u001B[1;33m(\u001B[0m\u001B[0mfig\u001B[0m\u001B[1;33m,\u001B[0m \u001B[1;33m**\u001B[0m\u001B[0mkwargs\u001B[0m\u001B[1;33m)\u001B[0m\u001B[1;33m)\u001B[0m\u001B[1;33m\u001B[0m\u001B[1;33m\u001B[0m\u001B[0m\n",
      "\u001B[1;32mc:\\users\\william\\pycharmprojects\\3804ict-data-mining\\venv\\lib\\site-packages\\IPython\\core\\pylabtools.py\u001B[0m in \u001B[0;36mprint_figure\u001B[1;34m(fig, fmt, bbox_inches, **kwargs)\u001B[0m\n\u001B[0;32m    135\u001B[0m         \u001B[0mFigureCanvasBase\u001B[0m\u001B[1;33m(\u001B[0m\u001B[0mfig\u001B[0m\u001B[1;33m)\u001B[0m\u001B[1;33m\u001B[0m\u001B[1;33m\u001B[0m\u001B[0m\n\u001B[0;32m    136\u001B[0m \u001B[1;33m\u001B[0m\u001B[0m\n\u001B[1;32m--> 137\u001B[1;33m     \u001B[0mfig\u001B[0m\u001B[1;33m.\u001B[0m\u001B[0mcanvas\u001B[0m\u001B[1;33m.\u001B[0m\u001B[0mprint_figure\u001B[0m\u001B[1;33m(\u001B[0m\u001B[0mbytes_io\u001B[0m\u001B[1;33m,\u001B[0m \u001B[1;33m**\u001B[0m\u001B[0mkw\u001B[0m\u001B[1;33m)\u001B[0m\u001B[1;33m\u001B[0m\u001B[1;33m\u001B[0m\u001B[0m\n\u001B[0m\u001B[0;32m    138\u001B[0m     \u001B[0mdata\u001B[0m \u001B[1;33m=\u001B[0m \u001B[0mbytes_io\u001B[0m\u001B[1;33m.\u001B[0m\u001B[0mgetvalue\u001B[0m\u001B[1;33m(\u001B[0m\u001B[1;33m)\u001B[0m\u001B[1;33m\u001B[0m\u001B[1;33m\u001B[0m\u001B[0m\n\u001B[0;32m    139\u001B[0m     \u001B[1;32mif\u001B[0m \u001B[0mfmt\u001B[0m \u001B[1;33m==\u001B[0m \u001B[1;34m'svg'\u001B[0m\u001B[1;33m:\u001B[0m\u001B[1;33m\u001B[0m\u001B[1;33m\u001B[0m\u001B[0m\n",
      "\u001B[1;32mc:\\users\\william\\pycharmprojects\\3804ict-data-mining\\venv\\lib\\site-packages\\matplotlib\\backend_bases.py\u001B[0m in \u001B[0;36mprint_figure\u001B[1;34m(self, filename, dpi, facecolor, edgecolor, orientation, format, bbox_inches, pad_inches, bbox_extra_artists, backend, **kwargs)\u001B[0m\n\u001B[0;32m   2253\u001B[0m                 \u001B[1;31m# force the figure dpi to 72), so we need to set it again here.\u001B[0m\u001B[1;33m\u001B[0m\u001B[1;33m\u001B[0m\u001B[1;33m\u001B[0m\u001B[0m\n\u001B[0;32m   2254\u001B[0m                 \u001B[1;32mwith\u001B[0m \u001B[0mcbook\u001B[0m\u001B[1;33m.\u001B[0m\u001B[0m_setattr_cm\u001B[0m\u001B[1;33m(\u001B[0m\u001B[0mself\u001B[0m\u001B[1;33m.\u001B[0m\u001B[0mfigure\u001B[0m\u001B[1;33m,\u001B[0m \u001B[0mdpi\u001B[0m\u001B[1;33m=\u001B[0m\u001B[0mdpi\u001B[0m\u001B[1;33m)\u001B[0m\u001B[1;33m:\u001B[0m\u001B[1;33m\u001B[0m\u001B[1;33m\u001B[0m\u001B[0m\n\u001B[1;32m-> 2255\u001B[1;33m                     result = print_method(\n\u001B[0m\u001B[0;32m   2256\u001B[0m                         \u001B[0mfilename\u001B[0m\u001B[1;33m,\u001B[0m\u001B[1;33m\u001B[0m\u001B[1;33m\u001B[0m\u001B[0m\n\u001B[0;32m   2257\u001B[0m                         \u001B[0mfacecolor\u001B[0m\u001B[1;33m=\u001B[0m\u001B[0mfacecolor\u001B[0m\u001B[1;33m,\u001B[0m\u001B[1;33m\u001B[0m\u001B[1;33m\u001B[0m\u001B[0m\n",
      "\u001B[1;32mc:\\users\\william\\pycharmprojects\\3804ict-data-mining\\venv\\lib\\site-packages\\matplotlib\\backend_bases.py\u001B[0m in \u001B[0;36mwrapper\u001B[1;34m(*args, **kwargs)\u001B[0m\n\u001B[0;32m   1667\u001B[0m             \u001B[0mkwargs\u001B[0m\u001B[1;33m.\u001B[0m\u001B[0mpop\u001B[0m\u001B[1;33m(\u001B[0m\u001B[0marg\u001B[0m\u001B[1;33m)\u001B[0m\u001B[1;33m\u001B[0m\u001B[1;33m\u001B[0m\u001B[0m\n\u001B[0;32m   1668\u001B[0m \u001B[1;33m\u001B[0m\u001B[0m\n\u001B[1;32m-> 1669\u001B[1;33m         \u001B[1;32mreturn\u001B[0m \u001B[0mfunc\u001B[0m\u001B[1;33m(\u001B[0m\u001B[1;33m*\u001B[0m\u001B[0margs\u001B[0m\u001B[1;33m,\u001B[0m \u001B[1;33m**\u001B[0m\u001B[0mkwargs\u001B[0m\u001B[1;33m)\u001B[0m\u001B[1;33m\u001B[0m\u001B[1;33m\u001B[0m\u001B[0m\n\u001B[0m\u001B[0;32m   1670\u001B[0m \u001B[1;33m\u001B[0m\u001B[0m\n\u001B[0;32m   1671\u001B[0m     \u001B[1;32mreturn\u001B[0m \u001B[0mwrapper\u001B[0m\u001B[1;33m\u001B[0m\u001B[1;33m\u001B[0m\u001B[0m\n",
      "\u001B[1;32mc:\\users\\william\\pycharmprojects\\3804ict-data-mining\\venv\\lib\\site-packages\\matplotlib\\backends\\backend_agg.py\u001B[0m in \u001B[0;36mprint_png\u001B[1;34m(self, filename_or_obj, metadata, pil_kwargs, *args)\u001B[0m\n\u001B[0;32m    506\u001B[0m             \u001B[1;33m*\u001B[0m\u001B[0mmetadata\u001B[0m\u001B[1;33m*\u001B[0m\u001B[1;33m,\u001B[0m \u001B[0mincluding\u001B[0m \u001B[0mthe\u001B[0m \u001B[0mdefault\u001B[0m \u001B[1;34m'Software'\u001B[0m \u001B[0mkey\u001B[0m\u001B[1;33m.\u001B[0m\u001B[1;33m\u001B[0m\u001B[1;33m\u001B[0m\u001B[0m\n\u001B[0;32m    507\u001B[0m         \"\"\"\n\u001B[1;32m--> 508\u001B[1;33m         \u001B[0mFigureCanvasAgg\u001B[0m\u001B[1;33m.\u001B[0m\u001B[0mdraw\u001B[0m\u001B[1;33m(\u001B[0m\u001B[0mself\u001B[0m\u001B[1;33m)\u001B[0m\u001B[1;33m\u001B[0m\u001B[1;33m\u001B[0m\u001B[0m\n\u001B[0m\u001B[0;32m    509\u001B[0m         mpl.image.imsave(\n\u001B[0;32m    510\u001B[0m             \u001B[0mfilename_or_obj\u001B[0m\u001B[1;33m,\u001B[0m \u001B[0mself\u001B[0m\u001B[1;33m.\u001B[0m\u001B[0mbuffer_rgba\u001B[0m\u001B[1;33m(\u001B[0m\u001B[1;33m)\u001B[0m\u001B[1;33m,\u001B[0m \u001B[0mformat\u001B[0m\u001B[1;33m=\u001B[0m\u001B[1;34m\"png\"\u001B[0m\u001B[1;33m,\u001B[0m \u001B[0morigin\u001B[0m\u001B[1;33m=\u001B[0m\u001B[1;34m\"upper\"\u001B[0m\u001B[1;33m,\u001B[0m\u001B[1;33m\u001B[0m\u001B[1;33m\u001B[0m\u001B[0m\n",
      "\u001B[1;32mc:\\users\\william\\pycharmprojects\\3804ict-data-mining\\venv\\lib\\site-packages\\matplotlib\\backends\\backend_agg.py\u001B[0m in \u001B[0;36mdraw\u001B[1;34m(self)\u001B[0m\n\u001B[0;32m    404\u001B[0m              (self.toolbar._wait_cursor_for_draw_cm() if self.toolbar\n\u001B[0;32m    405\u001B[0m               else nullcontext()):\n\u001B[1;32m--> 406\u001B[1;33m             \u001B[0mself\u001B[0m\u001B[1;33m.\u001B[0m\u001B[0mfigure\u001B[0m\u001B[1;33m.\u001B[0m\u001B[0mdraw\u001B[0m\u001B[1;33m(\u001B[0m\u001B[0mself\u001B[0m\u001B[1;33m.\u001B[0m\u001B[0mrenderer\u001B[0m\u001B[1;33m)\u001B[0m\u001B[1;33m\u001B[0m\u001B[1;33m\u001B[0m\u001B[0m\n\u001B[0m\u001B[0;32m    407\u001B[0m             \u001B[1;31m# A GUI class may be need to update a window using this draw, so\u001B[0m\u001B[1;33m\u001B[0m\u001B[1;33m\u001B[0m\u001B[1;33m\u001B[0m\u001B[0m\n\u001B[0;32m    408\u001B[0m             \u001B[1;31m# don't forget to call the superclass.\u001B[0m\u001B[1;33m\u001B[0m\u001B[1;33m\u001B[0m\u001B[1;33m\u001B[0m\u001B[0m\n",
      "\u001B[1;32mc:\\users\\william\\pycharmprojects\\3804ict-data-mining\\venv\\lib\\site-packages\\matplotlib\\artist.py\u001B[0m in \u001B[0;36mdraw_wrapper\u001B[1;34m(artist, renderer, *args, **kwargs)\u001B[0m\n\u001B[0;32m     72\u001B[0m     \u001B[1;33m@\u001B[0m\u001B[0mwraps\u001B[0m\u001B[1;33m(\u001B[0m\u001B[0mdraw\u001B[0m\u001B[1;33m)\u001B[0m\u001B[1;33m\u001B[0m\u001B[1;33m\u001B[0m\u001B[0m\n\u001B[0;32m     73\u001B[0m     \u001B[1;32mdef\u001B[0m \u001B[0mdraw_wrapper\u001B[0m\u001B[1;33m(\u001B[0m\u001B[0martist\u001B[0m\u001B[1;33m,\u001B[0m \u001B[0mrenderer\u001B[0m\u001B[1;33m,\u001B[0m \u001B[1;33m*\u001B[0m\u001B[0margs\u001B[0m\u001B[1;33m,\u001B[0m \u001B[1;33m**\u001B[0m\u001B[0mkwargs\u001B[0m\u001B[1;33m)\u001B[0m\u001B[1;33m:\u001B[0m\u001B[1;33m\u001B[0m\u001B[1;33m\u001B[0m\u001B[0m\n\u001B[1;32m---> 74\u001B[1;33m         \u001B[0mresult\u001B[0m \u001B[1;33m=\u001B[0m \u001B[0mdraw\u001B[0m\u001B[1;33m(\u001B[0m\u001B[0martist\u001B[0m\u001B[1;33m,\u001B[0m \u001B[0mrenderer\u001B[0m\u001B[1;33m,\u001B[0m \u001B[1;33m*\u001B[0m\u001B[0margs\u001B[0m\u001B[1;33m,\u001B[0m \u001B[1;33m**\u001B[0m\u001B[0mkwargs\u001B[0m\u001B[1;33m)\u001B[0m\u001B[1;33m\u001B[0m\u001B[1;33m\u001B[0m\u001B[0m\n\u001B[0m\u001B[0;32m     75\u001B[0m         \u001B[1;32mif\u001B[0m \u001B[0mrenderer\u001B[0m\u001B[1;33m.\u001B[0m\u001B[0m_rasterizing\u001B[0m\u001B[1;33m:\u001B[0m\u001B[1;33m\u001B[0m\u001B[1;33m\u001B[0m\u001B[0m\n\u001B[0;32m     76\u001B[0m             \u001B[0mrenderer\u001B[0m\u001B[1;33m.\u001B[0m\u001B[0mstop_rasterizing\u001B[0m\u001B[1;33m(\u001B[0m\u001B[1;33m)\u001B[0m\u001B[1;33m\u001B[0m\u001B[1;33m\u001B[0m\u001B[0m\n",
      "\u001B[1;32mc:\\users\\william\\pycharmprojects\\3804ict-data-mining\\venv\\lib\\site-packages\\matplotlib\\artist.py\u001B[0m in \u001B[0;36mdraw_wrapper\u001B[1;34m(artist, renderer, *args, **kwargs)\u001B[0m\n\u001B[0;32m     49\u001B[0m                 \u001B[0mrenderer\u001B[0m\u001B[1;33m.\u001B[0m\u001B[0mstart_filter\u001B[0m\u001B[1;33m(\u001B[0m\u001B[1;33m)\u001B[0m\u001B[1;33m\u001B[0m\u001B[1;33m\u001B[0m\u001B[0m\n\u001B[0;32m     50\u001B[0m \u001B[1;33m\u001B[0m\u001B[0m\n\u001B[1;32m---> 51\u001B[1;33m             \u001B[1;32mreturn\u001B[0m \u001B[0mdraw\u001B[0m\u001B[1;33m(\u001B[0m\u001B[0martist\u001B[0m\u001B[1;33m,\u001B[0m \u001B[0mrenderer\u001B[0m\u001B[1;33m,\u001B[0m \u001B[1;33m*\u001B[0m\u001B[0margs\u001B[0m\u001B[1;33m,\u001B[0m \u001B[1;33m**\u001B[0m\u001B[0mkwargs\u001B[0m\u001B[1;33m)\u001B[0m\u001B[1;33m\u001B[0m\u001B[1;33m\u001B[0m\u001B[0m\n\u001B[0m\u001B[0;32m     52\u001B[0m         \u001B[1;32mfinally\u001B[0m\u001B[1;33m:\u001B[0m\u001B[1;33m\u001B[0m\u001B[1;33m\u001B[0m\u001B[0m\n\u001B[0;32m     53\u001B[0m             \u001B[1;32mif\u001B[0m \u001B[0martist\u001B[0m\u001B[1;33m.\u001B[0m\u001B[0mget_agg_filter\u001B[0m\u001B[1;33m(\u001B[0m\u001B[1;33m)\u001B[0m \u001B[1;32mis\u001B[0m \u001B[1;32mnot\u001B[0m \u001B[1;32mNone\u001B[0m\u001B[1;33m:\u001B[0m\u001B[1;33m\u001B[0m\u001B[1;33m\u001B[0m\u001B[0m\n",
      "\u001B[1;32mc:\\users\\william\\pycharmprojects\\3804ict-data-mining\\venv\\lib\\site-packages\\matplotlib\\figure.py\u001B[0m in \u001B[0;36mdraw\u001B[1;34m(self, renderer)\u001B[0m\n\u001B[0;32m   2788\u001B[0m \u001B[1;33m\u001B[0m\u001B[0m\n\u001B[0;32m   2789\u001B[0m             \u001B[0mself\u001B[0m\u001B[1;33m.\u001B[0m\u001B[0mpatch\u001B[0m\u001B[1;33m.\u001B[0m\u001B[0mdraw\u001B[0m\u001B[1;33m(\u001B[0m\u001B[0mrenderer\u001B[0m\u001B[1;33m)\u001B[0m\u001B[1;33m\u001B[0m\u001B[1;33m\u001B[0m\u001B[0m\n\u001B[1;32m-> 2790\u001B[1;33m             mimage._draw_list_compositing_images(\n\u001B[0m\u001B[0;32m   2791\u001B[0m                 renderer, self, artists, self.suppressComposite)\n\u001B[0;32m   2792\u001B[0m \u001B[1;33m\u001B[0m\u001B[0m\n",
      "\u001B[1;32mc:\\users\\william\\pycharmprojects\\3804ict-data-mining\\venv\\lib\\site-packages\\matplotlib\\image.py\u001B[0m in \u001B[0;36m_draw_list_compositing_images\u001B[1;34m(renderer, parent, artists, suppress_composite)\u001B[0m\n\u001B[0;32m    130\u001B[0m     \u001B[1;32mif\u001B[0m \u001B[0mnot_composite\u001B[0m \u001B[1;32mor\u001B[0m \u001B[1;32mnot\u001B[0m \u001B[0mhas_images\u001B[0m\u001B[1;33m:\u001B[0m\u001B[1;33m\u001B[0m\u001B[1;33m\u001B[0m\u001B[0m\n\u001B[0;32m    131\u001B[0m         \u001B[1;32mfor\u001B[0m \u001B[0ma\u001B[0m \u001B[1;32min\u001B[0m \u001B[0martists\u001B[0m\u001B[1;33m:\u001B[0m\u001B[1;33m\u001B[0m\u001B[1;33m\u001B[0m\u001B[0m\n\u001B[1;32m--> 132\u001B[1;33m             \u001B[0ma\u001B[0m\u001B[1;33m.\u001B[0m\u001B[0mdraw\u001B[0m\u001B[1;33m(\u001B[0m\u001B[0mrenderer\u001B[0m\u001B[1;33m)\u001B[0m\u001B[1;33m\u001B[0m\u001B[1;33m\u001B[0m\u001B[0m\n\u001B[0m\u001B[0;32m    133\u001B[0m     \u001B[1;32melse\u001B[0m\u001B[1;33m:\u001B[0m\u001B[1;33m\u001B[0m\u001B[1;33m\u001B[0m\u001B[0m\n\u001B[0;32m    134\u001B[0m         \u001B[1;31m# Composite any adjacent images together\u001B[0m\u001B[1;33m\u001B[0m\u001B[1;33m\u001B[0m\u001B[1;33m\u001B[0m\u001B[0m\n",
      "\u001B[1;32mc:\\users\\william\\pycharmprojects\\3804ict-data-mining\\venv\\lib\\site-packages\\matplotlib\\artist.py\u001B[0m in \u001B[0;36mdraw_wrapper\u001B[1;34m(artist, renderer, *args, **kwargs)\u001B[0m\n\u001B[0;32m     49\u001B[0m                 \u001B[0mrenderer\u001B[0m\u001B[1;33m.\u001B[0m\u001B[0mstart_filter\u001B[0m\u001B[1;33m(\u001B[0m\u001B[1;33m)\u001B[0m\u001B[1;33m\u001B[0m\u001B[1;33m\u001B[0m\u001B[0m\n\u001B[0;32m     50\u001B[0m \u001B[1;33m\u001B[0m\u001B[0m\n\u001B[1;32m---> 51\u001B[1;33m             \u001B[1;32mreturn\u001B[0m \u001B[0mdraw\u001B[0m\u001B[1;33m(\u001B[0m\u001B[0martist\u001B[0m\u001B[1;33m,\u001B[0m \u001B[0mrenderer\u001B[0m\u001B[1;33m,\u001B[0m \u001B[1;33m*\u001B[0m\u001B[0margs\u001B[0m\u001B[1;33m,\u001B[0m \u001B[1;33m**\u001B[0m\u001B[0mkwargs\u001B[0m\u001B[1;33m)\u001B[0m\u001B[1;33m\u001B[0m\u001B[1;33m\u001B[0m\u001B[0m\n\u001B[0m\u001B[0;32m     52\u001B[0m         \u001B[1;32mfinally\u001B[0m\u001B[1;33m:\u001B[0m\u001B[1;33m\u001B[0m\u001B[1;33m\u001B[0m\u001B[0m\n\u001B[0;32m     53\u001B[0m             \u001B[1;32mif\u001B[0m \u001B[0martist\u001B[0m\u001B[1;33m.\u001B[0m\u001B[0mget_agg_filter\u001B[0m\u001B[1;33m(\u001B[0m\u001B[1;33m)\u001B[0m \u001B[1;32mis\u001B[0m \u001B[1;32mnot\u001B[0m \u001B[1;32mNone\u001B[0m\u001B[1;33m:\u001B[0m\u001B[1;33m\u001B[0m\u001B[1;33m\u001B[0m\u001B[0m\n",
      "\u001B[1;32mc:\\users\\william\\pycharmprojects\\3804ict-data-mining\\venv\\lib\\site-packages\\matplotlib\\_api\\deprecation.py\u001B[0m in \u001B[0;36mwrapper\u001B[1;34m(*inner_args, **inner_kwargs)\u001B[0m\n\u001B[0;32m    429\u001B[0m                          \u001B[1;32melse\u001B[0m \u001B[0mdeprecation_addendum\u001B[0m\u001B[1;33m,\u001B[0m\u001B[1;33m\u001B[0m\u001B[1;33m\u001B[0m\u001B[0m\n\u001B[0;32m    430\u001B[0m                 **kwargs)\n\u001B[1;32m--> 431\u001B[1;33m         \u001B[1;32mreturn\u001B[0m \u001B[0mfunc\u001B[0m\u001B[1;33m(\u001B[0m\u001B[1;33m*\u001B[0m\u001B[0minner_args\u001B[0m\u001B[1;33m,\u001B[0m \u001B[1;33m**\u001B[0m\u001B[0minner_kwargs\u001B[0m\u001B[1;33m)\u001B[0m\u001B[1;33m\u001B[0m\u001B[1;33m\u001B[0m\u001B[0m\n\u001B[0m\u001B[0;32m    432\u001B[0m \u001B[1;33m\u001B[0m\u001B[0m\n\u001B[0;32m    433\u001B[0m     \u001B[1;32mreturn\u001B[0m \u001B[0mwrapper\u001B[0m\u001B[1;33m\u001B[0m\u001B[1;33m\u001B[0m\u001B[0m\n",
      "\u001B[1;32mc:\\users\\william\\pycharmprojects\\3804ict-data-mining\\venv\\lib\\site-packages\\matplotlib\\axes\\_base.py\u001B[0m in \u001B[0;36mdraw\u001B[1;34m(self, renderer, inframe)\u001B[0m\n\u001B[0;32m   2919\u001B[0m             \u001B[0mrenderer\u001B[0m\u001B[1;33m.\u001B[0m\u001B[0mstop_rasterizing\u001B[0m\u001B[1;33m(\u001B[0m\u001B[1;33m)\u001B[0m\u001B[1;33m\u001B[0m\u001B[1;33m\u001B[0m\u001B[0m\n\u001B[0;32m   2920\u001B[0m \u001B[1;33m\u001B[0m\u001B[0m\n\u001B[1;32m-> 2921\u001B[1;33m         \u001B[0mmimage\u001B[0m\u001B[1;33m.\u001B[0m\u001B[0m_draw_list_compositing_images\u001B[0m\u001B[1;33m(\u001B[0m\u001B[0mrenderer\u001B[0m\u001B[1;33m,\u001B[0m \u001B[0mself\u001B[0m\u001B[1;33m,\u001B[0m \u001B[0martists\u001B[0m\u001B[1;33m)\u001B[0m\u001B[1;33m\u001B[0m\u001B[1;33m\u001B[0m\u001B[0m\n\u001B[0m\u001B[0;32m   2922\u001B[0m \u001B[1;33m\u001B[0m\u001B[0m\n\u001B[0;32m   2923\u001B[0m         \u001B[0mrenderer\u001B[0m\u001B[1;33m.\u001B[0m\u001B[0mclose_group\u001B[0m\u001B[1;33m(\u001B[0m\u001B[1;34m'axes'\u001B[0m\u001B[1;33m)\u001B[0m\u001B[1;33m\u001B[0m\u001B[1;33m\u001B[0m\u001B[0m\n",
      "\u001B[1;32mc:\\users\\william\\pycharmprojects\\3804ict-data-mining\\venv\\lib\\site-packages\\matplotlib\\image.py\u001B[0m in \u001B[0;36m_draw_list_compositing_images\u001B[1;34m(renderer, parent, artists, suppress_composite)\u001B[0m\n\u001B[0;32m    130\u001B[0m     \u001B[1;32mif\u001B[0m \u001B[0mnot_composite\u001B[0m \u001B[1;32mor\u001B[0m \u001B[1;32mnot\u001B[0m \u001B[0mhas_images\u001B[0m\u001B[1;33m:\u001B[0m\u001B[1;33m\u001B[0m\u001B[1;33m\u001B[0m\u001B[0m\n\u001B[0;32m    131\u001B[0m         \u001B[1;32mfor\u001B[0m \u001B[0ma\u001B[0m \u001B[1;32min\u001B[0m \u001B[0martists\u001B[0m\u001B[1;33m:\u001B[0m\u001B[1;33m\u001B[0m\u001B[1;33m\u001B[0m\u001B[0m\n\u001B[1;32m--> 132\u001B[1;33m             \u001B[0ma\u001B[0m\u001B[1;33m.\u001B[0m\u001B[0mdraw\u001B[0m\u001B[1;33m(\u001B[0m\u001B[0mrenderer\u001B[0m\u001B[1;33m)\u001B[0m\u001B[1;33m\u001B[0m\u001B[1;33m\u001B[0m\u001B[0m\n\u001B[0m\u001B[0;32m    133\u001B[0m     \u001B[1;32melse\u001B[0m\u001B[1;33m:\u001B[0m\u001B[1;33m\u001B[0m\u001B[1;33m\u001B[0m\u001B[0m\n\u001B[0;32m    134\u001B[0m         \u001B[1;31m# Composite any adjacent images together\u001B[0m\u001B[1;33m\u001B[0m\u001B[1;33m\u001B[0m\u001B[1;33m\u001B[0m\u001B[0m\n",
      "\u001B[1;32mc:\\users\\william\\pycharmprojects\\3804ict-data-mining\\venv\\lib\\site-packages\\matplotlib\\artist.py\u001B[0m in \u001B[0;36mdraw_wrapper\u001B[1;34m(artist, renderer, *args, **kwargs)\u001B[0m\n\u001B[0;32m     49\u001B[0m                 \u001B[0mrenderer\u001B[0m\u001B[1;33m.\u001B[0m\u001B[0mstart_filter\u001B[0m\u001B[1;33m(\u001B[0m\u001B[1;33m)\u001B[0m\u001B[1;33m\u001B[0m\u001B[1;33m\u001B[0m\u001B[0m\n\u001B[0;32m     50\u001B[0m \u001B[1;33m\u001B[0m\u001B[0m\n\u001B[1;32m---> 51\u001B[1;33m             \u001B[1;32mreturn\u001B[0m \u001B[0mdraw\u001B[0m\u001B[1;33m(\u001B[0m\u001B[0martist\u001B[0m\u001B[1;33m,\u001B[0m \u001B[0mrenderer\u001B[0m\u001B[1;33m,\u001B[0m \u001B[1;33m*\u001B[0m\u001B[0margs\u001B[0m\u001B[1;33m,\u001B[0m \u001B[1;33m**\u001B[0m\u001B[0mkwargs\u001B[0m\u001B[1;33m)\u001B[0m\u001B[1;33m\u001B[0m\u001B[1;33m\u001B[0m\u001B[0m\n\u001B[0m\u001B[0;32m     52\u001B[0m         \u001B[1;32mfinally\u001B[0m\u001B[1;33m:\u001B[0m\u001B[1;33m\u001B[0m\u001B[1;33m\u001B[0m\u001B[0m\n\u001B[0;32m     53\u001B[0m             \u001B[1;32mif\u001B[0m \u001B[0martist\u001B[0m\u001B[1;33m.\u001B[0m\u001B[0mget_agg_filter\u001B[0m\u001B[1;33m(\u001B[0m\u001B[1;33m)\u001B[0m \u001B[1;32mis\u001B[0m \u001B[1;32mnot\u001B[0m \u001B[1;32mNone\u001B[0m\u001B[1;33m:\u001B[0m\u001B[1;33m\u001B[0m\u001B[1;33m\u001B[0m\u001B[0m\n",
      "\u001B[1;32mc:\\users\\william\\pycharmprojects\\3804ict-data-mining\\venv\\lib\\site-packages\\matplotlib\\axis.py\u001B[0m in \u001B[0;36mdraw\u001B[1;34m(self, renderer, *args, **kwargs)\u001B[0m\n\u001B[0;32m   1140\u001B[0m \u001B[1;33m\u001B[0m\u001B[0m\n\u001B[0;32m   1141\u001B[0m         \u001B[0mticks_to_draw\u001B[0m \u001B[1;33m=\u001B[0m \u001B[0mself\u001B[0m\u001B[1;33m.\u001B[0m\u001B[0m_update_ticks\u001B[0m\u001B[1;33m(\u001B[0m\u001B[1;33m)\u001B[0m\u001B[1;33m\u001B[0m\u001B[1;33m\u001B[0m\u001B[0m\n\u001B[1;32m-> 1142\u001B[1;33m         ticklabelBoxes, ticklabelBoxes2 = self._get_tick_bboxes(ticks_to_draw,\n\u001B[0m\u001B[0;32m   1143\u001B[0m                                                                 renderer)\n\u001B[0;32m   1144\u001B[0m \u001B[1;33m\u001B[0m\u001B[0m\n",
      "\u001B[1;32mc:\\users\\william\\pycharmprojects\\3804ict-data-mining\\venv\\lib\\site-packages\\matplotlib\\axis.py\u001B[0m in \u001B[0;36m_get_tick_bboxes\u001B[1;34m(self, ticks, renderer)\u001B[0m\n\u001B[0;32m   1066\u001B[0m     \u001B[1;32mdef\u001B[0m \u001B[0m_get_tick_bboxes\u001B[0m\u001B[1;33m(\u001B[0m\u001B[0mself\u001B[0m\u001B[1;33m,\u001B[0m \u001B[0mticks\u001B[0m\u001B[1;33m,\u001B[0m \u001B[0mrenderer\u001B[0m\u001B[1;33m)\u001B[0m\u001B[1;33m:\u001B[0m\u001B[1;33m\u001B[0m\u001B[1;33m\u001B[0m\u001B[0m\n\u001B[0;32m   1067\u001B[0m         \u001B[1;34m\"\"\"Return lists of bboxes for ticks' label1's and label2's.\"\"\"\u001B[0m\u001B[1;33m\u001B[0m\u001B[1;33m\u001B[0m\u001B[0m\n\u001B[1;32m-> 1068\u001B[1;33m         return ([tick.label1.get_window_extent(renderer)\n\u001B[0m\u001B[0;32m   1069\u001B[0m                  for tick in ticks if tick.label1.get_visible()],\n\u001B[0;32m   1070\u001B[0m                 [tick.label2.get_window_extent(renderer)\n",
      "\u001B[1;32mc:\\users\\william\\pycharmprojects\\3804ict-data-mining\\venv\\lib\\site-packages\\matplotlib\\axis.py\u001B[0m in \u001B[0;36m<listcomp>\u001B[1;34m(.0)\u001B[0m\n\u001B[0;32m   1066\u001B[0m     \u001B[1;32mdef\u001B[0m \u001B[0m_get_tick_bboxes\u001B[0m\u001B[1;33m(\u001B[0m\u001B[0mself\u001B[0m\u001B[1;33m,\u001B[0m \u001B[0mticks\u001B[0m\u001B[1;33m,\u001B[0m \u001B[0mrenderer\u001B[0m\u001B[1;33m)\u001B[0m\u001B[1;33m:\u001B[0m\u001B[1;33m\u001B[0m\u001B[1;33m\u001B[0m\u001B[0m\n\u001B[0;32m   1067\u001B[0m         \u001B[1;34m\"\"\"Return lists of bboxes for ticks' label1's and label2's.\"\"\"\u001B[0m\u001B[1;33m\u001B[0m\u001B[1;33m\u001B[0m\u001B[0m\n\u001B[1;32m-> 1068\u001B[1;33m         return ([tick.label1.get_window_extent(renderer)\n\u001B[0m\u001B[0;32m   1069\u001B[0m                  for tick in ticks if tick.label1.get_visible()],\n\u001B[0;32m   1070\u001B[0m                 [tick.label2.get_window_extent(renderer)\n",
      "\u001B[1;32mc:\\users\\william\\pycharmprojects\\3804ict-data-mining\\venv\\lib\\site-packages\\matplotlib\\text.py\u001B[0m in \u001B[0;36mget_window_extent\u001B[1;34m(self, renderer, dpi)\u001B[0m\n\u001B[0;32m    901\u001B[0m \u001B[1;33m\u001B[0m\u001B[0m\n\u001B[0;32m    902\u001B[0m         \u001B[1;32mwith\u001B[0m \u001B[0mcbook\u001B[0m\u001B[1;33m.\u001B[0m\u001B[0m_setattr_cm\u001B[0m\u001B[1;33m(\u001B[0m\u001B[0mself\u001B[0m\u001B[1;33m.\u001B[0m\u001B[0mfigure\u001B[0m\u001B[1;33m,\u001B[0m \u001B[0mdpi\u001B[0m\u001B[1;33m=\u001B[0m\u001B[0mdpi\u001B[0m\u001B[1;33m)\u001B[0m\u001B[1;33m:\u001B[0m\u001B[1;33m\u001B[0m\u001B[1;33m\u001B[0m\u001B[0m\n\u001B[1;32m--> 903\u001B[1;33m             \u001B[0mbbox\u001B[0m\u001B[1;33m,\u001B[0m \u001B[0minfo\u001B[0m\u001B[1;33m,\u001B[0m \u001B[0mdescent\u001B[0m \u001B[1;33m=\u001B[0m \u001B[0mself\u001B[0m\u001B[1;33m.\u001B[0m\u001B[0m_get_layout\u001B[0m\u001B[1;33m(\u001B[0m\u001B[0mself\u001B[0m\u001B[1;33m.\u001B[0m\u001B[0m_renderer\u001B[0m\u001B[1;33m)\u001B[0m\u001B[1;33m\u001B[0m\u001B[1;33m\u001B[0m\u001B[0m\n\u001B[0m\u001B[0;32m    904\u001B[0m             \u001B[0mx\u001B[0m\u001B[1;33m,\u001B[0m \u001B[0my\u001B[0m \u001B[1;33m=\u001B[0m \u001B[0mself\u001B[0m\u001B[1;33m.\u001B[0m\u001B[0mget_unitless_position\u001B[0m\u001B[1;33m(\u001B[0m\u001B[1;33m)\u001B[0m\u001B[1;33m\u001B[0m\u001B[1;33m\u001B[0m\u001B[0m\n\u001B[0;32m    905\u001B[0m             \u001B[0mx\u001B[0m\u001B[1;33m,\u001B[0m \u001B[0my\u001B[0m \u001B[1;33m=\u001B[0m \u001B[0mself\u001B[0m\u001B[1;33m.\u001B[0m\u001B[0mget_transform\u001B[0m\u001B[1;33m(\u001B[0m\u001B[1;33m)\u001B[0m\u001B[1;33m.\u001B[0m\u001B[0mtransform\u001B[0m\u001B[1;33m(\u001B[0m\u001B[1;33m(\u001B[0m\u001B[0mx\u001B[0m\u001B[1;33m,\u001B[0m \u001B[0my\u001B[0m\u001B[1;33m)\u001B[0m\u001B[1;33m)\u001B[0m\u001B[1;33m\u001B[0m\u001B[1;33m\u001B[0m\u001B[0m\n",
      "\u001B[1;32mc:\\users\\william\\pycharmprojects\\3804ict-data-mining\\venv\\lib\\site-packages\\matplotlib\\text.py\u001B[0m in \u001B[0;36m_get_layout\u001B[1;34m(self, renderer)\u001B[0m\n\u001B[0;32m    304\u001B[0m \u001B[1;33m\u001B[0m\u001B[0m\n\u001B[0;32m    305\u001B[0m         \u001B[1;31m# Full vertical extent of font, including ascenders and descenders:\u001B[0m\u001B[1;33m\u001B[0m\u001B[1;33m\u001B[0m\u001B[1;33m\u001B[0m\u001B[0m\n\u001B[1;32m--> 306\u001B[1;33m         _, lp_h, lp_d = renderer.get_text_width_height_descent(\n\u001B[0m\u001B[0;32m    307\u001B[0m             \u001B[1;34m\"lp\"\u001B[0m\u001B[1;33m,\u001B[0m \u001B[0mself\u001B[0m\u001B[1;33m.\u001B[0m\u001B[0m_fontproperties\u001B[0m\u001B[1;33m,\u001B[0m\u001B[1;33m\u001B[0m\u001B[1;33m\u001B[0m\u001B[0m\n\u001B[0;32m    308\u001B[0m             ismath=\"TeX\" if self.get_usetex() else False)\n",
      "\u001B[1;32mc:\\users\\william\\pycharmprojects\\3804ict-data-mining\\venv\\lib\\site-packages\\matplotlib\\backends\\backend_agg.py\u001B[0m in \u001B[0;36mget_text_width_height_descent\u001B[1;34m(self, s, prop, ismath)\u001B[0m\n\u001B[0;32m    238\u001B[0m         \u001B[0mflags\u001B[0m \u001B[1;33m=\u001B[0m \u001B[0mget_hinting_flag\u001B[0m\u001B[1;33m(\u001B[0m\u001B[1;33m)\u001B[0m\u001B[1;33m\u001B[0m\u001B[1;33m\u001B[0m\u001B[0m\n\u001B[0;32m    239\u001B[0m         \u001B[0mfont\u001B[0m \u001B[1;33m=\u001B[0m \u001B[0mself\u001B[0m\u001B[1;33m.\u001B[0m\u001B[0m_get_agg_font\u001B[0m\u001B[1;33m(\u001B[0m\u001B[0mprop\u001B[0m\u001B[1;33m)\u001B[0m\u001B[1;33m\u001B[0m\u001B[1;33m\u001B[0m\u001B[0m\n\u001B[1;32m--> 240\u001B[1;33m         \u001B[0mfont\u001B[0m\u001B[1;33m.\u001B[0m\u001B[0mset_text\u001B[0m\u001B[1;33m(\u001B[0m\u001B[0ms\u001B[0m\u001B[1;33m,\u001B[0m \u001B[1;36m0.0\u001B[0m\u001B[1;33m,\u001B[0m \u001B[0mflags\u001B[0m\u001B[1;33m=\u001B[0m\u001B[0mflags\u001B[0m\u001B[1;33m)\u001B[0m\u001B[1;33m\u001B[0m\u001B[1;33m\u001B[0m\u001B[0m\n\u001B[0m\u001B[0;32m    241\u001B[0m         \u001B[0mw\u001B[0m\u001B[1;33m,\u001B[0m \u001B[0mh\u001B[0m \u001B[1;33m=\u001B[0m \u001B[0mfont\u001B[0m\u001B[1;33m.\u001B[0m\u001B[0mget_width_height\u001B[0m\u001B[1;33m(\u001B[0m\u001B[1;33m)\u001B[0m  \u001B[1;31m# width and height of unrotated string\u001B[0m\u001B[1;33m\u001B[0m\u001B[1;33m\u001B[0m\u001B[0m\n\u001B[0;32m    242\u001B[0m         \u001B[0md\u001B[0m \u001B[1;33m=\u001B[0m \u001B[0mfont\u001B[0m\u001B[1;33m.\u001B[0m\u001B[0mget_descent\u001B[0m\u001B[1;33m(\u001B[0m\u001B[1;33m)\u001B[0m\u001B[1;33m\u001B[0m\u001B[1;33m\u001B[0m\u001B[0m\n",
      "\u001B[1;31mKeyboardInterrupt\u001B[0m: "
     ]
    }
   ],
   "source": [
    "for (columnName, columnData) in movie_df.iteritems():\n",
    "    if movie_df[columnName].dtypes in [np.int32, np.float64]:\n",
    "        print(columnName)\n",
    "        movie_df[columnName].value_counts().plot.bar()\n",
    "\n"
   ]
  },
  {
   "cell_type": "markdown",
   "source": [
    "### Ratings\n"
   ],
   "metadata": {
    "collapsed": false,
    "pycharm": {
     "name": "#%% md\n"
    }
   }
  },
  {
   "cell_type": "markdown",
   "metadata": {},
   "source": [
    "## Data Pre-processing "
   ]
  }
 ],
 "metadata": {
  "kernelspec": {
   "display_name": "Python 3",
   "language": "python",
   "name": "python3"
  },
  "language_info": {
   "codemirror_mode": {
    "name": "ipython",
    "version": 3
   },
   "file_extension": ".py",
   "mimetype": "text/x-python",
   "name": "python",
   "nbconvert_exporter": "python",
   "pygments_lexer": "ipython3",
   "version": "3.7.4"
  }
 },
 "nbformat": 4,
 "nbformat_minor": 1
}
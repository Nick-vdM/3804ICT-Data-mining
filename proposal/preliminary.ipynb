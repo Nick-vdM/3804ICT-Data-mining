{
 "cells": [
  {
   "cell_type": "markdown",
   "metadata": {
    "collapsed": true
   },
   "source": [
    "# Preliminary Data Report"
   ]
  },
  {
   "cell_type": "markdown",
   "metadata": {},
   "source": [
    "## Data Exploration\n",
    "\n",
    "This dataset has two tables that will be analysed. The first is the movie table, which includes the attributes of movies\n",
    "from the IMDB website. The second is the ratings table, which includes the ratings given to various movies by users of\n",
    "the website MovieLens.\n",
    "\n",
    "Below is a sample of the movies table."
   ]
  },
  {
   "cell_type": "code",
   "execution_count": 44,
   "metadata": {},
   "outputs": [
    {
     "data": {
      "text/plain": "  imdb_title_id                                              title  \\\n0     tt0000009                                         Miss Jerry   \n1     tt0000574                        The Story of the Kelly Gang   \n2     tt0001892                                     Den sorte drøm   \n3     tt0002101                                          Cleopatra   \n4     tt0002130                                          L'Inferno   \n5     tt0002199  From the Manger to the Cross; or, Jesus of Naz...   \n6     tt0002423                                     Madame DuBarry   \n7     tt0002445                                         Quo Vadis?   \n8     tt0002452                              Independenta Romaniei   \n9     tt0002461                                        Richard III   \n\n                                      original_title date_published  duration  \\\n0                                         Miss Jerry     1894-10-09        45   \n1                        The Story of the Kelly Gang     1906-12-26        70   \n2                                     Den sorte drøm     1911-08-19        53   \n3                                          Cleopatra     1912-11-13       100   \n4                                          L'Inferno     1911-03-06        68   \n5  From the Manger to the Cross; or, Jesus of Naz...           1913        60   \n6                                     Madame DuBarry     1919-11-26        85   \n7                                         Quo Vadis?     1913-03-01       120   \n8                              Independenta Romaniei     1912-09-01       120   \n9                                        Richard III     1912-10-15        55   \n\n            country language                               director  \\\n0               USA     None                        Alexander Black   \n1         Australia     None                           Charles Tait   \n2  Germany, Denmark      NaN                              Urban Gad   \n3               USA  English                     Charles L. Gaskill   \n4             Italy  Italian    Francesco Bertolini, Adolfo Padovan   \n5               USA  English                          Sidney Olcott   \n6           Germany   German                         Ernst Lubitsch   \n7             Italy  Italian                        Enrico Guazzoni   \n8           Romania      NaN  Aristide Demetriade, Grigore Brezeanu   \n9       France, USA  English           André Calmettes, James Keane   \n\n                                  writer  \\\n0                        Alexander Black   \n1                           Charles Tait   \n2  Urban Gad, Gebhard Schätzler-Perasini   \n3                       Victorien Sardou   \n4                        Dante Alighieri   \n5                          Gene Gauntier   \n6              Norbert Falk, Hanns Kräly   \n7    Henryk Sienkiewicz, Enrico Guazzoni   \n8       Aristide Demetriade, Petre Liciu   \n9       James Keane, William Shakespeare   \n\n                         production_company  \\\n0                Alexander Black Photoplays   \n1                            J. and N. Tait   \n2                                  Fotorama   \n3             Helen Gardner Picture Players   \n4                               Milano Film   \n5                             Kalem Company   \n6               Projektions-AG Union (PAGU)   \n7                    Società Italiana Cines   \n8  Societatea Filmului de Arta Leon Popescu   \n9                             Le Film d'Art   \n\n                                         description  avg_vote  votes  \\\n0  The adventures of a female reporter in the 1890s.       5.9    154   \n1  True story of notorious Australian outlaw Ned ...       6.1    589   \n2  Two men of high rank are both wooing the beaut...       5.8    188   \n3  The fabled queen of Egypt's affair with Roman ...       5.2    446   \n4  Loosely adapted from Dante's Divine Comedy and...       7.0   2237   \n5  An account of the life of Jesus Christ, based ...       5.7    484   \n6  The story of Madame DuBarry, the mistress of L...       6.8    753   \n7  An epic Italian film \"Quo Vadis\" influenced ma...       6.2    273   \n8  The movie depicts the Romanian War of Independ...       6.7    198   \n9  Richard of Gloucester uses manipulation and mu...       5.5    225   \n\n       budget usa_gross_income worlwide_gross_income  \\\n0         NaN              NaN                   NaN   \n1      $ 2250              NaN                   NaN   \n2         NaN              NaN                   NaN   \n3     $ 45000              NaN                   NaN   \n4         NaN              NaN                   NaN   \n5         NaN              NaN                   NaN   \n6         NaN              NaN                   NaN   \n7   ITL 45000              NaN                   NaN   \n8  ROL 400000              NaN                   NaN   \n9     $ 30000              NaN                   NaN   \n\n                         genre  \\\n0                    {Romance}   \n1    {Biography, Crime, Drama}   \n2                      {Drama}   \n3             {Drama, History}   \n4  {Adventure, Fantasy, Drama}   \n5           {Biography, Drama}   \n6  {Biography, Romance, Drama}   \n7             {Drama, History}   \n8               {War, History}   \n9                      {Drama}   \n\n                                              actors  year  metascore  \\\n0  {William Courtenay, Chauncey Depew, Blanche Ba...  1894         -1   \n1  {Bella Cola, Mr. Marshall, Ollie Wilson, Vera ...  1906         -1   \n2  {Hugo Flink, Gunnar Helsengreen, Asta Nielsen,...  1911         -1   \n3  {Miss Fielding, Helene Costello, Mr. Howard, M...  1912         -1   \n4  {Arturo Pirovano, Attilio Motta, Augusto Milla...  1911         -1   \n5  {Samuel Morgan, R. Henderson Bland, James D. A...  1912         -1   \n6  {Alexander Ekert, Else Berna, Gustav Czimeg, E...  1919         -1   \n7  {Matilde Guillaume, Augusto Mastripietri, Amel...  1913         -1   \n8  {Aurel Athanasescu, Pepi Machauer, Ion Dumitre...  1912         -1   \n9  {Violet Stuart, Robert Gemp, George Moss, Albe...  1912         -1   \n\n   reviews_from_users  reviews_from_critics  \n0                   1                     2  \n1                   7                     7  \n2                   5                     2  \n3                  25                     3  \n4                  31                    14  \n5                  13                     5  \n6                  12                     9  \n7                   7                     5  \n8                   4                     1  \n9                   8                     1  ",
      "text/html": "<div>\n<style scoped>\n    .dataframe tbody tr th:only-of-type {\n        vertical-align: middle;\n    }\n\n    .dataframe tbody tr th {\n        vertical-align: top;\n    }\n\n    .dataframe thead th {\n        text-align: right;\n    }\n</style>\n<table border=\"1\" class=\"dataframe\">\n  <thead>\n    <tr style=\"text-align: right;\">\n      <th></th>\n      <th>imdb_title_id</th>\n      <th>title</th>\n      <th>original_title</th>\n      <th>date_published</th>\n      <th>duration</th>\n      <th>country</th>\n      <th>language</th>\n      <th>director</th>\n      <th>writer</th>\n      <th>production_company</th>\n      <th>description</th>\n      <th>avg_vote</th>\n      <th>votes</th>\n      <th>budget</th>\n      <th>usa_gross_income</th>\n      <th>worlwide_gross_income</th>\n      <th>genre</th>\n      <th>actors</th>\n      <th>year</th>\n      <th>metascore</th>\n      <th>reviews_from_users</th>\n      <th>reviews_from_critics</th>\n    </tr>\n  </thead>\n  <tbody>\n    <tr>\n      <th>0</th>\n      <td>tt0000009</td>\n      <td>Miss Jerry</td>\n      <td>Miss Jerry</td>\n      <td>1894-10-09</td>\n      <td>45</td>\n      <td>USA</td>\n      <td>None</td>\n      <td>Alexander Black</td>\n      <td>Alexander Black</td>\n      <td>Alexander Black Photoplays</td>\n      <td>The adventures of a female reporter in the 1890s.</td>\n      <td>5.9</td>\n      <td>154</td>\n      <td>NaN</td>\n      <td>NaN</td>\n      <td>NaN</td>\n      <td>{Romance}</td>\n      <td>{William Courtenay, Chauncey Depew, Blanche Ba...</td>\n      <td>1894</td>\n      <td>-1</td>\n      <td>1</td>\n      <td>2</td>\n    </tr>\n    <tr>\n      <th>1</th>\n      <td>tt0000574</td>\n      <td>The Story of the Kelly Gang</td>\n      <td>The Story of the Kelly Gang</td>\n      <td>1906-12-26</td>\n      <td>70</td>\n      <td>Australia</td>\n      <td>None</td>\n      <td>Charles Tait</td>\n      <td>Charles Tait</td>\n      <td>J. and N. Tait</td>\n      <td>True story of notorious Australian outlaw Ned ...</td>\n      <td>6.1</td>\n      <td>589</td>\n      <td>$ 2250</td>\n      <td>NaN</td>\n      <td>NaN</td>\n      <td>{Biography, Crime, Drama}</td>\n      <td>{Bella Cola, Mr. Marshall, Ollie Wilson, Vera ...</td>\n      <td>1906</td>\n      <td>-1</td>\n      <td>7</td>\n      <td>7</td>\n    </tr>\n    <tr>\n      <th>2</th>\n      <td>tt0001892</td>\n      <td>Den sorte drøm</td>\n      <td>Den sorte drøm</td>\n      <td>1911-08-19</td>\n      <td>53</td>\n      <td>Germany, Denmark</td>\n      <td>NaN</td>\n      <td>Urban Gad</td>\n      <td>Urban Gad, Gebhard Schätzler-Perasini</td>\n      <td>Fotorama</td>\n      <td>Two men of high rank are both wooing the beaut...</td>\n      <td>5.8</td>\n      <td>188</td>\n      <td>NaN</td>\n      <td>NaN</td>\n      <td>NaN</td>\n      <td>{Drama}</td>\n      <td>{Hugo Flink, Gunnar Helsengreen, Asta Nielsen,...</td>\n      <td>1911</td>\n      <td>-1</td>\n      <td>5</td>\n      <td>2</td>\n    </tr>\n    <tr>\n      <th>3</th>\n      <td>tt0002101</td>\n      <td>Cleopatra</td>\n      <td>Cleopatra</td>\n      <td>1912-11-13</td>\n      <td>100</td>\n      <td>USA</td>\n      <td>English</td>\n      <td>Charles L. Gaskill</td>\n      <td>Victorien Sardou</td>\n      <td>Helen Gardner Picture Players</td>\n      <td>The fabled queen of Egypt's affair with Roman ...</td>\n      <td>5.2</td>\n      <td>446</td>\n      <td>$ 45000</td>\n      <td>NaN</td>\n      <td>NaN</td>\n      <td>{Drama, History}</td>\n      <td>{Miss Fielding, Helene Costello, Mr. Howard, M...</td>\n      <td>1912</td>\n      <td>-1</td>\n      <td>25</td>\n      <td>3</td>\n    </tr>\n    <tr>\n      <th>4</th>\n      <td>tt0002130</td>\n      <td>L'Inferno</td>\n      <td>L'Inferno</td>\n      <td>1911-03-06</td>\n      <td>68</td>\n      <td>Italy</td>\n      <td>Italian</td>\n      <td>Francesco Bertolini, Adolfo Padovan</td>\n      <td>Dante Alighieri</td>\n      <td>Milano Film</td>\n      <td>Loosely adapted from Dante's Divine Comedy and...</td>\n      <td>7.0</td>\n      <td>2237</td>\n      <td>NaN</td>\n      <td>NaN</td>\n      <td>NaN</td>\n      <td>{Adventure, Fantasy, Drama}</td>\n      <td>{Arturo Pirovano, Attilio Motta, Augusto Milla...</td>\n      <td>1911</td>\n      <td>-1</td>\n      <td>31</td>\n      <td>14</td>\n    </tr>\n    <tr>\n      <th>5</th>\n      <td>tt0002199</td>\n      <td>From the Manger to the Cross; or, Jesus of Naz...</td>\n      <td>From the Manger to the Cross; or, Jesus of Naz...</td>\n      <td>1913</td>\n      <td>60</td>\n      <td>USA</td>\n      <td>English</td>\n      <td>Sidney Olcott</td>\n      <td>Gene Gauntier</td>\n      <td>Kalem Company</td>\n      <td>An account of the life of Jesus Christ, based ...</td>\n      <td>5.7</td>\n      <td>484</td>\n      <td>NaN</td>\n      <td>NaN</td>\n      <td>NaN</td>\n      <td>{Biography, Drama}</td>\n      <td>{Samuel Morgan, R. Henderson Bland, James D. A...</td>\n      <td>1912</td>\n      <td>-1</td>\n      <td>13</td>\n      <td>5</td>\n    </tr>\n    <tr>\n      <th>6</th>\n      <td>tt0002423</td>\n      <td>Madame DuBarry</td>\n      <td>Madame DuBarry</td>\n      <td>1919-11-26</td>\n      <td>85</td>\n      <td>Germany</td>\n      <td>German</td>\n      <td>Ernst Lubitsch</td>\n      <td>Norbert Falk, Hanns Kräly</td>\n      <td>Projektions-AG Union (PAGU)</td>\n      <td>The story of Madame DuBarry, the mistress of L...</td>\n      <td>6.8</td>\n      <td>753</td>\n      <td>NaN</td>\n      <td>NaN</td>\n      <td>NaN</td>\n      <td>{Biography, Romance, Drama}</td>\n      <td>{Alexander Ekert, Else Berna, Gustav Czimeg, E...</td>\n      <td>1919</td>\n      <td>-1</td>\n      <td>12</td>\n      <td>9</td>\n    </tr>\n    <tr>\n      <th>7</th>\n      <td>tt0002445</td>\n      <td>Quo Vadis?</td>\n      <td>Quo Vadis?</td>\n      <td>1913-03-01</td>\n      <td>120</td>\n      <td>Italy</td>\n      <td>Italian</td>\n      <td>Enrico Guazzoni</td>\n      <td>Henryk Sienkiewicz, Enrico Guazzoni</td>\n      <td>Società Italiana Cines</td>\n      <td>An epic Italian film \"Quo Vadis\" influenced ma...</td>\n      <td>6.2</td>\n      <td>273</td>\n      <td>ITL 45000</td>\n      <td>NaN</td>\n      <td>NaN</td>\n      <td>{Drama, History}</td>\n      <td>{Matilde Guillaume, Augusto Mastripietri, Amel...</td>\n      <td>1913</td>\n      <td>-1</td>\n      <td>7</td>\n      <td>5</td>\n    </tr>\n    <tr>\n      <th>8</th>\n      <td>tt0002452</td>\n      <td>Independenta Romaniei</td>\n      <td>Independenta Romaniei</td>\n      <td>1912-09-01</td>\n      <td>120</td>\n      <td>Romania</td>\n      <td>NaN</td>\n      <td>Aristide Demetriade, Grigore Brezeanu</td>\n      <td>Aristide Demetriade, Petre Liciu</td>\n      <td>Societatea Filmului de Arta Leon Popescu</td>\n      <td>The movie depicts the Romanian War of Independ...</td>\n      <td>6.7</td>\n      <td>198</td>\n      <td>ROL 400000</td>\n      <td>NaN</td>\n      <td>NaN</td>\n      <td>{War, History}</td>\n      <td>{Aurel Athanasescu, Pepi Machauer, Ion Dumitre...</td>\n      <td>1912</td>\n      <td>-1</td>\n      <td>4</td>\n      <td>1</td>\n    </tr>\n    <tr>\n      <th>9</th>\n      <td>tt0002461</td>\n      <td>Richard III</td>\n      <td>Richard III</td>\n      <td>1912-10-15</td>\n      <td>55</td>\n      <td>France, USA</td>\n      <td>English</td>\n      <td>André Calmettes, James Keane</td>\n      <td>James Keane, William Shakespeare</td>\n      <td>Le Film d'Art</td>\n      <td>Richard of Gloucester uses manipulation and mu...</td>\n      <td>5.5</td>\n      <td>225</td>\n      <td>$ 30000</td>\n      <td>NaN</td>\n      <td>NaN</td>\n      <td>{Drama}</td>\n      <td>{Violet Stuart, Robert Gemp, George Moss, Albe...</td>\n      <td>1912</td>\n      <td>-1</td>\n      <td>8</td>\n      <td>1</td>\n    </tr>\n  </tbody>\n</table>\n</div>"
     },
     "execution_count": 44,
     "metadata": {},
     "output_type": "execute_result"
    }
   ],
   "source": [
    "import pickle\n",
    "import bz2\n",
    "import pandas as pd\n",
    "import numpy as np\n",
    "import matplotlib.pyplot as plt\n",
    "\n",
    "def read_in_pickle(filename):\n",
    "    bz2_file = bz2.BZ2File(filename, \"r\")\n",
    "    data = pickle.load(bz2_file)\n",
    "    return data\n",
    "\n",
    "movie_df = read_in_pickle(\"../pickles/organised_movies.pickle\")\n",
    "movie_df.head(10)"
   ]
  },
  {
   "cell_type": "markdown",
   "source": [
    "Below is a sample of the ratings database. The movies from the ratings database are linked to the IMDB database through\n",
    "the IMDB ID.\n"
   ],
   "metadata": {
    "collapsed": false,
    "pycharm": {
     "name": "#%% md\n"
    }
   }
  },
  {
   "cell_type": "code",
   "execution_count": 45,
   "outputs": [
    {
     "data": {
      "text/plain": "   userId  rating     imdbId\n0       1     4.0  tt0114709\n1       1     4.0  tt0113228\n2       1     4.0  tt0113277\n3       1     5.0  tt0114369\n4       1     5.0  tt0114814\n5       1     3.0  tt0116367\n6       1     5.0  tt0115734\n7       1     4.0  tt0112573\n8       1     5.0  tt0114287\n9       1     5.0  tt0109370",
      "text/html": "<div>\n<style scoped>\n    .dataframe tbody tr th:only-of-type {\n        vertical-align: middle;\n    }\n\n    .dataframe tbody tr th {\n        vertical-align: top;\n    }\n\n    .dataframe thead th {\n        text-align: right;\n    }\n</style>\n<table border=\"1\" class=\"dataframe\">\n  <thead>\n    <tr style=\"text-align: right;\">\n      <th></th>\n      <th>userId</th>\n      <th>rating</th>\n      <th>imdbId</th>\n    </tr>\n  </thead>\n  <tbody>\n    <tr>\n      <th>0</th>\n      <td>1</td>\n      <td>4.0</td>\n      <td>tt0114709</td>\n    </tr>\n    <tr>\n      <th>1</th>\n      <td>1</td>\n      <td>4.0</td>\n      <td>tt0113228</td>\n    </tr>\n    <tr>\n      <th>2</th>\n      <td>1</td>\n      <td>4.0</td>\n      <td>tt0113277</td>\n    </tr>\n    <tr>\n      <th>3</th>\n      <td>1</td>\n      <td>5.0</td>\n      <td>tt0114369</td>\n    </tr>\n    <tr>\n      <th>4</th>\n      <td>1</td>\n      <td>5.0</td>\n      <td>tt0114814</td>\n    </tr>\n    <tr>\n      <th>5</th>\n      <td>1</td>\n      <td>3.0</td>\n      <td>tt0116367</td>\n    </tr>\n    <tr>\n      <th>6</th>\n      <td>1</td>\n      <td>5.0</td>\n      <td>tt0115734</td>\n    </tr>\n    <tr>\n      <th>7</th>\n      <td>1</td>\n      <td>4.0</td>\n      <td>tt0112573</td>\n    </tr>\n    <tr>\n      <th>8</th>\n      <td>1</td>\n      <td>5.0</td>\n      <td>tt0114287</td>\n    </tr>\n    <tr>\n      <th>9</th>\n      <td>1</td>\n      <td>5.0</td>\n      <td>tt0109370</td>\n    </tr>\n  </tbody>\n</table>\n</div>"
     },
     "execution_count": 45,
     "metadata": {},
     "output_type": "execute_result"
    }
   ],
   "source": [
    "rating_df = read_in_pickle(\"../pickles/organised_ratings.pickle\")\n",
    "rating_df.head(10)"
   ],
   "metadata": {
    "collapsed": false,
    "pycharm": {
     "name": "#%%\n"
    }
   }
  },
  {
   "cell_type": "markdown",
   "metadata": {},
   "source": [
    "#### Attribute Types\n",
    "Below are the data types of attributes in both tables. Note: types listed as \"object\" are strings, and genre and actors\n",
    "are sets of strings."
   ]
  },
  {
   "cell_type": "code",
   "execution_count": 46,
   "metadata": {},
   "outputs": [
    {
     "name": "stdout",
     "output_type": "stream",
     "text": [
      "MOVIES\n",
      "imdb_title_id             object\n",
      "title                     object\n",
      "original_title            object\n",
      "date_published            object\n",
      "duration                   int32\n",
      "country                   object\n",
      "language                  object\n",
      "director                  object\n",
      "writer                    object\n",
      "production_company        object\n",
      "description               object\n",
      "avg_vote                 float64\n",
      "votes                      int32\n",
      "budget                    object\n",
      "usa_gross_income          object\n",
      "worlwide_gross_income     object\n",
      "genre                     object\n",
      "actors                    object\n",
      "year                       int64\n",
      "metascore                  int64\n",
      "reviews_from_users         int64\n",
      "reviews_from_critics       int64\n",
      "dtype: object\n",
      "RATINGS\n",
      "userId      int64\n",
      "rating    float64\n",
      "imdbId     object\n",
      "dtype: object\n"
     ]
    }
   ],
   "source": [
    "pd.set_option('display.max_rows', None)\n",
    "pd.set_option('display.max_columns', None)\n",
    "\n",
    "print(\"MOVIES\")\n",
    "print(movie_df.dtypes)\n",
    "\n",
    "print(\"RATINGS\")\n",
    "print(rating_df.dtypes)"
   ]
  },
  {
   "cell_type": "markdown",
   "metadata": {},
   "source": [
    "#### Data Dimensions\n",
    "\n",
    "Below are the dimensions of both tables."
   ]
  },
  {
   "cell_type": "code",
   "execution_count": 47,
   "metadata": {
    "scrolled": true
   },
   "outputs": [
    {
     "name": "stdout",
     "output_type": "stream",
     "text": [
      "MOVIES\n",
      "Total Number of Attributes:  22\n",
      "Total Number of Samples:  85855\n",
      "Total Number of Cells:  1888810\n",
      "RATINGS\n",
      "Total Number of Attributes:  3\n",
      "Total Number of Samples:  100836\n",
      "Total Number of Cells:  302508\n"
     ]
    }
   ],
   "source": [
    "print(\"MOVIES\")\n",
    "print(\"Total Number of Attributes: \", movie_df.shape[1])\n",
    "print(\"Total Number of Samples: \", movie_df.shape[0])\n",
    "print(\"Total Number of Cells: \", movie_df.size)\n",
    "\n",
    "print(\"RATINGS\")\n",
    "print(\"Total Number of Attributes: \", rating_df.shape[1])\n",
    "print(\"Total Number of Samples: \", rating_df.shape[0])\n",
    "print(\"Total Number of Cells: \", rating_df.size)"
   ]
  },
  {
   "cell_type": "markdown",
   "metadata": {},
   "source": [
    "#### Data Summaries\n",
    "\n",
    "Below are the basic summaries of both datasets' categories. The numerical categories have five number summaries,\n",
    "while the categorical categories have their unique values listed."
   ]
  },
  {
   "cell_type": "code",
   "execution_count": 48,
   "metadata": {},
   "outputs": [
    {
     "name": "stdout",
     "output_type": "stream",
     "text": [
      "MOVIES\n",
      "           duration      avg_vote         votes          year     metascore  \\\n",
      "count  85855.000000  85855.000000  8.585500e+04  85855.000000  13305.000000   \n",
      "mean     100.351418      5.898656  9.493490e+03   1993.500891     55.896881   \n",
      "std       22.553848      1.234987  5.357436e+04     24.216420     17.784874   \n",
      "min       41.000000      1.000000  9.900000e+01   1894.000000      1.000000   \n",
      "25%       88.000000      5.200000  2.050000e+02   1979.000000     43.000000   \n",
      "50%       96.000000      6.100000  4.840000e+02   2003.000000     57.000000   \n",
      "75%      108.000000      6.800000  1.766500e+03   2013.000000     69.000000   \n",
      "max      808.000000      9.900000  2.278845e+06   2020.000000    100.000000   \n",
      "\n",
      "       reviews_from_users  reviews_from_critics  \n",
      "count        78258.000000          74058.000000  \n",
      "mean            46.040826             27.479989  \n",
      "std            178.511411             58.339158  \n",
      "min              1.000000              1.000000  \n",
      "25%              4.000000              3.000000  \n",
      "50%              9.000000              8.000000  \n",
      "75%             27.000000             23.000000  \n",
      "max          10472.000000            999.000000  \n",
      "RATINGS\n",
      "              userId         rating\n",
      "count  100836.000000  100836.000000\n",
      "mean      326.127564       3.501557\n",
      "std       182.618491       1.042529\n",
      "min         1.000000       0.500000\n",
      "25%       177.000000       3.000000\n",
      "50%       325.000000       3.500000\n",
      "75%       477.000000       4.000000\n",
      "max       610.000000       5.000000\n"
     ]
    }
   ],
   "source": [
    "print(\"MOVIES\")\n",
    "print(movie_df.mask(movie_df == -1).describe())\n",
    "\n",
    "print(\"RATINGS\")\n",
    "print(rating_df.mask(rating_df == -1).describe())"
   ]
  },
  {
   "cell_type": "code",
   "execution_count": 49,
   "metadata": {},
   "outputs": [
    {
     "name": "stdout",
     "output_type": "stream",
     "text": [
      "MOVIES\n",
      "imdb_title_id\n",
      "['tt0000009' 'tt0000574' 'tt0001892' ... 'tt9911774' 'tt9914286'\n",
      " 'tt9914942']\n",
      "title\n",
      "['Miss Jerry' 'The Story of the Kelly Gang' 'Den sorte drøm' ...\n",
      " 'Padmavyuhathile Abhimanyu' 'Sokagin Çocuklari'\n",
      " 'La vida sense la Sara Amat']\n",
      "original_title\n",
      "['Miss Jerry' 'The Story of the Kelly Gang' 'Den sorte drøm' ...\n",
      " 'Padmavyuhathile Abhimanyu' 'Sokagin Çocuklari'\n",
      " 'La vida sense la Sara Amat']\n",
      "date_published\n",
      "['1894-10-09' '1906-12-26' '1911-08-19' ... '2020-10-22' '2019-01-13'\n",
      " '2020-09-04']\n",
      "country\n",
      "['USA' 'Australia' 'Germany, Denmark' ...\n",
      " 'Iran, France, Germany, Switzerland, Luxembourg, Lebanon'\n",
      " 'Spain, Portugal, Argentina' 'India, Netherlands, Singapore']\n",
      "language\n",
      "['None' nan 'English' ... 'Persian, Urdu' 'English, Swiss German, German'\n",
      " 'English, Polish, Russian, German']\n",
      "director\n",
      "['Alexander Black' 'Charles Tait' 'Urban Gad' ... 'Ludovic Colbeau-Justin'\n",
      " 'Vineesh Aaradya' 'Laura Jou']\n",
      "writer\n",
      "['Alexander Black' 'Charles Tait' 'Urban Gad, Gebhard Schätzler-Perasini'\n",
      " ... 'Vineesh Aaradya, Vineesh Aaradya' 'Ahmet Faik Akinci, Kasim Uçkan'\n",
      " 'Coral Cruz, Pep Puig']\n",
      "production_company\n",
      "['Alexander Black Photoplays' 'J. and N. Tait' 'Fotorama' ...\n",
      " 'RMCC Productions' 'Gizem Ajans' 'La Xarxa de Comunicació Local']\n",
      "description\n",
      "['The adventures of a female reporter in the 1890s.'\n",
      " 'True story of notorious Australian outlaw Ned Kelly (1855-80).'\n",
      " \"Two men of high rank are both wooing the beautiful and famous equestrian acrobat Stella. While Stella ignores the jeweler Hirsch, she accepts Count von Waldberg's offer to follow her home, ...\"\n",
      " ...\n",
      " 'A psychiatric hospital patient pretends to be crazy. In charge of caring for this patient, a caregiver will begin to doubt the mental state of his \"protégé\".'\n",
      " 'A middle-aged veterinary surgeon believes his wife pampers him too much. In order to get away from her, he fakes the onset of dementia.'\n",
      " 'Pep, a 13-year-old boy, is in love with a girl from his grandparents village, Sara Amat. One summer night Sara disappears without a trace. After a few hours, Pep finds her hiding in his room.']\n",
      "budget\n",
      "[nan '$ 2250' '$ 45000' ... 'CAD 3850000' 'IRR 35000000000' 'MYR 20000000']\n",
      "usa_gross_income\n",
      "[nan '$ 3270000' '$ 8811' ... '$ 265279' '$ 66309' '$ 1294596']\n",
      "worlwide_gross_income\n",
      "[nan '$ 144968' '$ 8811' ... '$ 7299062' '$ 2833' '$ 59794']\n",
      "RATINGS\n",
      "imdbId\n",
      "['tt0114709' 'tt0113228' 'tt0113277' ... 'tt0798722' 'tt1540011'\n",
      " 'tt3835080']\n"
     ]
    }
   ],
   "source": [
    "print(\"MOVIES\")\n",
    "for (columnName, columnData) in movie_df.iteritems():\n",
    "    if columnName in [\"actors\", \"genre\", \"userId\"] or movie_df[columnName].dtypes in [np.float64, np.int32, np.int64]:\n",
    "        continue\n",
    "    print(columnName)\n",
    "    print(pd.unique(movie_df[columnName]))\n",
    "\n",
    "print(\"RATINGS\")\n",
    "for (columnName, columnData) in rating_df.iteritems():\n",
    "    if columnName in [\"actors\", \"genre\", \"userId\"] or rating_df[columnName].dtypes in [np.float64, np.int32, np.int64]:\n",
    "        continue\n",
    "    print(columnName)\n",
    "    print(pd.unique(rating_df[columnName]))"
   ]
  },
  {
   "cell_type": "markdown",
   "metadata": {},
   "source": [
    "## Data Visualisation\n",
    "\n",
    "Below are the visualisations of both datasets' numerical categories.\n",
    "\n",
    "### Movies"
   ]
  },
  {
   "cell_type": "code",
   "execution_count": 50,
   "metadata": {},
   "outputs": [
    {
     "name": "stdout",
     "output_type": "stream",
     "text": [
      "duration\n",
      "avg_vote\n",
      "votes\n",
      "year\n",
      "metascore\n",
      "reviews_from_users\n",
      "reviews_from_critics\n"
     ]
    },
    {
     "data": {
      "text/plain": "<Figure size 432x288 with 1 Axes>",
      "image/png": "[encoded data removed]"
     },
     "metadata": {
      "needs_background": "light"
     },
     "output_type": "display_data"
    }
   ],
   "source": [
    "for (columnName, columnData) in movie_df.mask(movie_df == -1).iteritems():\n",
    "    if movie_df[columnName].dtypes in [np.int32, np.int64, np.float64]:\n",
    "        print(columnName)\n",
    "        movie_df[columnName].value_counts().plot.bar()\n",
    "\n"
   ]
  },
  {
   "cell_type": "markdown",
   "source": [
    "### Ratings\n"
   ],
   "metadata": {
    "collapsed": false,
    "pycharm": {
     "name": "#%% md\n"
    }
   }
  },
  {
   "cell_type": "markdown",
   "metadata": {},
   "source": [
    "## Data Pre-processing "
   ]
  }
 ],
 "metadata": {
  "kernelspec": {
   "display_name": "Python 3",
   "language": "python",
   "name": "python3"
  },
  "language_info": {
   "codemirror_mode": {
    "name": "ipython",
    "version": 3
   },
   "file_extension": ".py",
   "mimetype": "text/x-python",
   "name": "python",
   "nbconvert_exporter": "python",
   "pygments_lexer": "ipython3",
   "version": "3.7.4"
  }
 },
 "nbformat": 4,
 "nbformat_minor": 1
}
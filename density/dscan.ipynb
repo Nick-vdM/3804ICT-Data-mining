{
 "cells": [
  {
   "cell_type": "markdown",
   "metadata": {
    "collapsed": true,
    "pycharm": {
     "name": "#%% md\n"
    }
   },
   "source": [
    "# DBSCAN\n",
    "This notebook is split into three sections with one for every algorithm.\n",
    "Essentially, the idea is to cluster movies and users so that we can\n",
    "recommend the entire cluster they belong to, for both users and movies.\n",
    "\n",
    "Compared to the other algorithms, this means that we will not be able\n",
    "to give exactly how much they like a given movie, but just give them\n",
    "the cluster they reside in."
   ]
  },
  {
   "cell_type": "markdown",
   "source": [
    "## Initialise PySpark and data"
   ],
   "metadata": {
    "collapsed": false,
    "pycharm": {
     "name": "#%% md\n"
    }
   }
  },
  {
   "cell_type": "code",
   "execution_count": 26,
   "outputs": [],
   "source": [
    "from pyspark.ml.linalg import DenseVector\n",
    "from pyspark.mllib.random import RandomRDDs\n",
    "import pyspark.sql\n",
    "import pyspark\n",
    "from pyspark import SparkContext, SparkConf, SQLContext\n",
    "from sklearn.cluster import DBSCAN\n",
    "import os\n",
    "import numpy as np\n",
    "\n",
    "from density.slides_dbscan import my_DBSCAN\n",
    "\n",
    "if os.path.basename(os.getcwd()) == 'density':\n",
    "    print(\"Current dir is\", os.getcwd())\n",
    "    print(\"Changing dir to be in root\")\n",
    "    os.chdir('..')\n",
    "    print('now in', os.getcwd())\n",
    "\n",
    "from proposal.useful_tools import pickle_manager\n",
    "\n",
    "SPARK_CONF = SparkConf()\n",
    "SPARK_CONF.set(\"spark.driver.memory\", \"10g\")\n",
    "SPARK_CONF.set(\"spark.cores.max\", \"4\")\n",
    "SPARK_CONF.set(\"spark.executor.heartbeatInterval\", \"3600\")\n",
    "SPARK_CONF.setAppName(\"word2vec\")\n",
    "\n",
    "SPARK_CONTEXT = SparkContext.getOrCreate(SPARK_CONF)\n",
    "SPARK = SQLContext(SPARK_CONTEXT)"
   ],
   "metadata": {
    "collapsed": false,
    "pycharm": {
     "name": "#%%\n"
    }
   }
  },
  {
   "cell_type": "code",
   "execution_count": null,
   "outputs": [],
   "source": [
    "# Load data: TODO\n",
    "# Assume that I can do this\n",
    "MOVIES: pyspark.sql.DataFrame = 1  # data frame\n",
    "USERS: pyspark.sql.DataFrame = 1  # data frame\n",
    "\n",
    "# Just so that we have something lets just go ahead and do this\n",
    "size = 80000\n",
    "np.random.seed(42)\n",
    "MOVIES_SIMILARITY_MATRIX = pickle_manager.load_pickle('pickles/simil_matrix.pickle.lz4')\n",
    "USERS_SIMILARITY_MATRIX = pickle_manager.load_pickle('pickles/simil_matrix.pickle.lz4')\n",
    "\n",
    "# To keep things fair, initialise the necessary parameters right at the start\n",
    "MOVIES_RADIUS = 0.001\n",
    "MOVIES_MINIMUM_POINTS = 4\n",
    "\n",
    "USERS_RADIUS = 0.001\n",
    "USERS_MINIMUM_POINTS = 4"
   ],
   "metadata": {
    "collapsed": false,
    "pycharm": {
     "name": "#%%\n",
     "is_executing": true
    }
   }
  },
  {
   "cell_type": "code",
   "execution_count": null,
   "outputs": [],
   "source": [
    "print(MOVIES_SIMILARITY_MATRIX)"
   ],
   "metadata": {
    "collapsed": false,
    "pycharm": {
     "name": "#%%\n",
     "is_executing": true
    }
   }
  },
  {
   "cell_type": "markdown",
   "source": [
    "## Scikit DBSCAN\n",
    "[Documentation](https://scikit-learn.org/stable/modules/generated/sklearn.cluster.DBSCAN.html#sklearn.cluster.DBSCAN)\n",
    "### Implementation"
   ],
   "metadata": {
    "collapsed": false,
    "pycharm": {
     "name": "#%% md\n"
    }
   }
  },
  {
   "cell_type": "code",
   "execution_count": null,
   "outputs": [],
   "source": [
    "scikit_movies_clustering = DBSCAN(\n",
    "    eps=MOVIES_RADIUS, min_samples=MOVIES_MINIMUM_POINTS, metric='precomputed', n_jobs=-1\n",
    ").fit(MOVIES_SIMILARITY_MATRIX)\n",
    "\n",
    "scikit_users_clustering = DBSCAN(\n",
    "    eps=USERS_RADIUS, min_samples=USERS_MINIMUM_POINTS, metric='precomputed', n_jobs=-1\n",
    ").fit(MOVIES_SIMILARITY_MATRIX).fit(USERS_SIMILARITY_MATRIX)"
   ],
   "metadata": {
    "collapsed": false,
    "pycharm": {
     "name": "#%%\n",
     "is_executing": true
    }
   }
  },
  {
   "cell_type": "code",
   "execution_count": null,
   "outputs": [],
   "source": [
    "print(set(scikit_movies_clustering.labels_))\n",
    "print(set(scikit_users_clustering.labels_))"
   ],
   "metadata": {
    "collapsed": false,
    "pycharm": {
     "name": "#%%\n",
     "is_executing": true
    }
   }
  },
  {
   "cell_type": "markdown",
   "source": [
    "## PyClustering DBSCAN\n",
    "### [Documentation](https://pyclustering.github.io/docs/0.10.1/html/d2/d42/classpyclustering_1_1cluster_1_1dbscan_1_1dbscan.html#details)"
   ],
   "metadata": {
    "collapsed": false,
    "pycharm": {
     "name": "#%% md\n"
    }
   }
  },
  {
   "cell_type": "code",
   "execution_count": null,
   "outputs": [],
   "source": [
    "from pyclustering.cluster.dbscan import dbscan\n",
    "\n",
    "pyclustering_ = dbscan(\n",
    "    MOVIES_SIMILARITY_MATRIX, MOVIES_RADIUS, MOVIES_MINIMUM_POINTS\n",
    ")\n",
    "\n",
    "dbscan_instance = dbscan(\n",
    "    USERS_SIMILARITY_MATRIX, USERS_RADIUS, USERS_MINIMUM_POINTS\n",
    ")"
   ],
   "metadata": {
    "collapsed": false,
    "pycharm": {
     "name": "#%%\n",
     "is_executing": true
    }
   }
  },
  {
   "cell_type": "markdown",
   "source": [
    "## Slides\n",
    "### Implementation\n",
    "Since we made a class that just inherits the scikit dbscan and replaces the fit function, we should\n",
    "just be able to do the same process here as the scikit section"
   ],
   "metadata": {
    "collapsed": false,
    "pycharm": {
     "name": "#%% md\n"
    }
   }
  },
  {
   "cell_type": "code",
   "execution_count": null,
   "outputs": [],
   "source": [
    "my_dbscan_movies_clustering = my_DBSCAN(\n",
    "    eps=MOVIES_RADIUS, min_samples=MOVIES_MINIMUM_POINTS, metric='precomputed', n_jobs=-1\n",
    ").fit(MOVIES_SIMILARITY_MATRIX)\n",
    "\n",
    "my_dbscan_users_clustering = my_DBSCAN(\n",
    "    eps=USERS_RADIUS, min_samples=USERS_MINIMUM_POINTS, metric='precomputed', n_jobs=-1\n",
    ").fit(USERS_SIMILARITY_MATRIX)"
   ],
   "metadata": {
    "collapsed": false,
    "pycharm": {
     "name": "#%%\n",
     "is_executing": true
    }
   }
  },
  {
   "cell_type": "code",
   "execution_count": null,
   "outputs": [],
   "source": [
    "print(set(my_dbscan_movies_clustering.labels_))\n",
    "print(set(my_dbscan_users_clustering.labels_))"
   ],
   "metadata": {
    "collapsed": false,
    "pycharm": {
     "name": "#%%\n",
     "is_executing": true
    }
   }
  },
  {
   "cell_type": "markdown",
   "source": [
    "## Evaluation"
   ],
   "metadata": {
    "collapsed": false,
    "pycharm": {
     "name": "#%% md\n"
    }
   }
  }
 ],
 "metadata": {
  "kernelspec": {
   "display_name": "Python 3",
   "language": "python",
   "name": "python3"
  },
  "language_info": {
   "codemirror_mode": {
    "name": "ipython",
    "version": 2
   },
   "file_extension": ".py",
   "mimetype": "text/x-python",
   "name": "python",
   "nbconvert_exporter": "python",
   "pygments_lexer": "ipython2",
   "version": "2.7.6"
  }
 },
 "nbformat": 4,
 "nbformat_minor": 0
}
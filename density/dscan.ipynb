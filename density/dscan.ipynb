{
 "cells": [
  {
   "cell_type": "markdown",
   "metadata": {
    "collapsed": true,
    "pycharm": {
     "name": "#%% md\n"
    }
   },
   "source": [
    "# DBSCAN\n",
    "This notebook is split into three sections with one\n",
    "for every algorithm"
   ]
  },
  {
   "cell_type": "markdown",
   "source": [
    "## Initialise PySpark and data"
   ],
   "metadata": {
    "collapsed": false,
    "pycharm": {
     "name": "#%% md\n"
    }
   }
  },
  {
   "cell_type": "code",
   "execution_count": null,
   "outputs": [],
   "source": [
    "from pyspark import SparkContext, SparkConf, SQLContext\n",
    "\n",
    "SPARK_CONF = SparkConf()\n",
    "SPARK_CONF.set(\"spark.driver.memory\", \"10g\")\n",
    "SPARK_CONF.set(\"spark.cores.max\", \"4\")\n",
    "SPARK_CONF.set(\"spark.executor.heartbeatInterval\", \"3600\")\n",
    "SPARK_CONF.setAppName(\"word2vec\")\n",
    "\n",
    "SPARK_CONTEXT = SparkContext.getOrCreate(SPARK_CONF)\n",
    "SPARK = SQLContext(SPARK_CONTEXT)\n",
    "\n",
    "# Load data: TODO"
   ],
   "metadata": {
    "collapsed": false,
    "pycharm": {
     "name": "#%%\n"
    }
   }
  },
  {
   "cell_type": "markdown",
   "source": [
    "## Scikit"
   ],
   "metadata": {
    "collapsed": false,
    "pycharm": {
     "name": "#%% md\n"
    }
   }
  },
  {
   "cell_type": "markdown",
   "source": [
    "## PyCaret"
   ],
   "metadata": {
    "collapsed": false,
    "pycharm": {
     "name": "#%% md\n"
    }
   }
  },
  {
   "cell_type": "markdown",
   "source": [
    "## Slides\n",
    "Reading around did"
   ],
   "metadata": {
    "collapsed": false,
    "pycharm": {
     "name": "#%% md\n"
    }
   }
  }
 ],
 "metadata": {
  "kernelspec": {
   "display_name": "Python 3",
   "language": "python",
   "name": "python3"
  },
  "language_info": {
   "codemirror_mode": {
    "name": "ipython",
    "version": 2
   },
   "file_extension": ".py",
   "mimetype": "text/x-python",
   "name": "python",
   "nbconvert_exporter": "python",
   "pygments_lexer": "ipython2",
   "version": "2.7.6"
  }
 },
 "nbformat": 4,
 "nbformat_minor": 0
}